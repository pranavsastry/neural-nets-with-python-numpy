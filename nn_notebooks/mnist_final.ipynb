{
  "nbformat": 4,
  "nbformat_minor": 0,
  "metadata": {
    "colab": {
      "name": "mnist_final.ipynb",
      "provenance": [],
      "collapsed_sections": []
    },
    "kernelspec": {
      "name": "python3",
      "display_name": "Python 3"
    }
  },
  "cells": [
    {
      "cell_type": "code",
      "metadata": {
        "id": "tWIr65IilAMP",
        "colab_type": "code",
        "colab": {
          "base_uri": "https://localhost:8080/"
        },
        "outputId": "c9899060-cd82-4664-8056-6ef43ead8488"
      },
      "source": [
        "#Importing libraries\n",
        " \n",
        "import os\n",
        "import numpy as np\n",
        "import seaborn as sns\n",
        "import matplotlib.pyplot as plt\n",
        "from matplotlib import cm\n",
        "from matplotlib import pyplot\n",
        "from tensorflow.keras.datasets import mnist\n",
        "from keras.utils import to_categorical"
      ],
      "execution_count": 1,
      "outputs": [
        {
          "output_type": "stream",
          "text": [
            "/usr/local/lib/python3.6/dist-packages/statsmodels/tools/_testing.py:19: FutureWarning: pandas.util.testing is deprecated. Use the functions in the public API at pandas.testing instead.\n",
            "  import pandas.util.testing as tm\n",
            "Using TensorFlow backend.\n"
          ],
          "name": "stderr"
        }
      ]
    },
    {
      "cell_type": "code",
      "metadata": {
        "id": "Kubk3BdB6toD",
        "colab_type": "code",
        "colab": {
          "base_uri": "https://localhost:8080/",
          "height": 51
        },
        "outputId": "950853d1-7d13-4c09-e099-7228f1a6ffb5"
      },
      "source": [
        "\"\"\"\n",
        "    DATA PREPARATION\n",
        "      > Loading the dataset and splitting it into train, cross validation and test sets\n",
        "      > The inputs are to be in the format of X.shape = (number_of_examples, number_of features)\n",
        "      > The outputs are to be in the format of y.shape = (number_of_output_units, number_of_examples)\n",
        "\"\"\"\n",
        "(X_train_orig, Y_train_orig), (X_test_orig, Y_test_orig) = mnist.load_data()\n",
        "\n",
        "# Preparing the data\n",
        "Y_tr_resh = Y_train_orig.reshape(60000, 1)\n",
        "Y_te_resh = Y_test_orig.reshape(10000, 1)\n",
        "Y_tr_T = to_categorical(Y_tr_resh, num_classes=10)\n",
        "Y_te_T = to_categorical(Y_te_resh, num_classes=10)\n",
        "y_tr = Y_tr_T.T\n",
        "y_te = Y_te_T.T\n",
        "\n",
        "\n",
        "# Flattening of inputs\n",
        "X_train_flatten = X_train_orig.reshape(X_train_orig.shape[0], -1).T\n",
        "X_test_flatten = X_test_orig.reshape(X_test_orig.shape[0], -1).T\n",
        "\n",
        "# Preprocessing of Inputs\n",
        "X_tr = X_train_flatten.T / 255.\n",
        "X_te = X_test_flatten.T / 255.\n",
        "num_classes = y_tr.shape[0]\n",
        "m_tr = X_tr.shape[0]\n",
        "m_te = X_te.shape[0]"
      ],
      "execution_count": 2,
      "outputs": [
        {
          "output_type": "stream",
          "text": [
            "Downloading data from https://storage.googleapis.com/tensorflow/tf-keras-datasets/mnist.npz\n",
            "11493376/11490434 [==============================] - 0s 0us/step\n"
          ],
          "name": "stdout"
        }
      ]
    },
    {
      "cell_type": "code",
      "metadata": {
        "id": "i1V3Z1HpokA4",
        "colab_type": "code",
        "colab": {}
      },
      "source": [
        "\"\"\"\n",
        "    ACTIVATION FUNCTIONS\n",
        "      > Defining the activation functions for the neural network. Note here that \n",
        "         the \"tanh\" activation function is implemented as \"tang(x)\"\n",
        "\"\"\"\n",
        " \n",
        "def sigmoid(x):\n",
        "  return (1/(1+np.exp(-x)))\n",
        "def relu(x):\n",
        "    return np.maximum(0,x)\n",
        "def tang(x):\n",
        "  return np.tanh(x)\n",
        "def softmax(x):\n",
        "  soft = np.exp(x)/np.sum(np.exp(x),axis=0)\n",
        "  return soft"
      ],
      "execution_count": 3,
      "outputs": []
    },
    {
      "cell_type": "code",
      "metadata": {
        "id": "7pR71Fydolfm",
        "colab_type": "code",
        "colab": {}
      },
      "source": [
        "\"\"\"\n",
        "    DEFINING UNITS AND ACTIVATION FUNCTIONS\n",
        "      > Here the number of units in each layer and as a result the number of layers\n",
        "         in our neural network is defined in a Python list \"layer_dims\"\n",
        "      > Activation functions for each of the layers is also defined in the Python\n",
        "         list \"act_fn\"\n",
        "      > Note here that the length of act_fn is one less than that of the length of\n",
        "         layer_dims\n",
        "\"\"\"\n",
        " \n",
        "layer_dims = [X_tr.shape[1],150,100,60,30,10,num_classes]\n",
        "act_fn = [\"relu\",\"relu\",\"relu\",\"relu\",\"relu\",\"softmax\"]\n",
        "dropout_vals = [1,0.5,0.6,0.7,0.8,1]"
      ],
      "execution_count": 4,
      "outputs": []
    },
    {
      "cell_type": "code",
      "metadata": {
        "id": "LqvuIXEDo2Ro",
        "colab_type": "code",
        "colab": {}
      },
      "source": [
        "\"\"\"\n",
        "    INITIALISING THE PARAMETERS\n",
        "      > The parameters of the neural network are 1.Weights and 2.Bias and these\n",
        "         parameters are tweaked while training the network. \n",
        "      > Weights and bias for each of the layers(excluding the input layer) are\n",
        "         initialised randomly and special weight initialisation techniques are\n",
        "         used depending on the activation function of the layer.\n",
        "      > Weights and bias are stored in the Python dictionary \"parameters\" and the\n",
        "         weights of the ith layer are stored by keyword Wi and the bias in bi\n",
        "      > Wi.shape = (number_of_units_in_(i-1)th_layer, number_of_units_in_(i)th_layer)\n",
        "      > bi.shape = (number_of_units_in_(i)th_layer,1)\n",
        "      > Arguments - layer_dims,act_fn\n",
        "\"\"\"\n",
        " \n",
        "def initialize_parameters(layer_dims,activation_fn):\n",
        "  parameters = {}\n",
        "  relu_init = 2\n",
        "  tang_init = 1\n",
        "  for i in range(1,len(layer_dims)):\n",
        "    if activation_fn[i-1] is \"relu\":\n",
        "      initi = relu_init\n",
        "    if activation_fn[i-1] is \"tang\":\n",
        "      initi = tang_init\n",
        "    parameters[\"W\"+str(i)] = np.random.randn(layer_dims[i],layer_dims[i-1])*np.sqrt(initi/layer_dims[i-1])\n",
        "    parameters[\"b\"+str(i)] = np.random.randn(layer_dims[i],1)*0.01\n",
        "  return parameters"
      ],
      "execution_count": 5,
      "outputs": []
    },
    {
      "cell_type": "code",
      "metadata": {
        "id": "2szTq5wmo4OO",
        "colab_type": "code",
        "colab": {}
      },
      "source": [
        "\"\"\"\n",
        "    FORWARD PROPAGATION\n",
        "      > The forward propagation makes a forward pass through the neural net. The\n",
        "         outputs of all the layers are computed and then the activation\n",
        "         for that particular layer is calculated.\n",
        "      > The python dictionaries \"outputs\" are used to store the output of the dot\n",
        "         product between the weights and the inputs and \"activations\" are used to\n",
        "         store the activations of the outputs of that layer\n",
        "      > The \"outputs\" contain keywords of the format Zi for the outputs of the ith\n",
        "         layer and the \"activations\" contain keywords of the format Ai for the activations\n",
        "         of the ith layer based on its activations as specified in \"acts_fn\"\n",
        "      > The input data is also stored in A0 and is handy for back propagation\n",
        "      > Arguments - Input_Data, parameters, activation_fn\n",
        "\"\"\"\n",
        " \n",
        "def forw_prop(X,parameters,activation_fn,dr_out):\n",
        "  outputs = {}\n",
        "  activations = {}\n",
        "  temp_act = {}\n",
        "  A_prev = X.T\n",
        "  for o in range(1,len(layer_dims)):\n",
        "    if activation_fn[o-1] is \"relu\":\n",
        "      activ = relu\n",
        "    if activation_fn[o-1] is \"tang\":\n",
        "      activ = tang\n",
        "    if activation_fn[o-1] is \"sigmoid\":\n",
        "      activ = sigmoid\n",
        "    if activation_fn[o-1] is \"softmax\":\n",
        "      activ = softmax\n",
        "    if dr_out is False:\n",
        "      outputs[\"Z\" + str(o)] = np.dot(parameters[\"W\" + str(o)],A_prev) + parameters[\"b\"+str(o)]\n",
        "      activations[\"A\" + str(o)] = activ(outputs[\"Z\" + str(o)])\n",
        "      A_prev = activations[\"A\" + str(o)]\n",
        "    else:\n",
        "      outputs[\"Z\" + str(o)] = np.dot(parameters[\"W\" + str(o)],A_prev) + parameters[\"b\"+str(o)]\n",
        "      temp_act[\"A\" + str(o)] = activ(outputs[\"Z\" + str(o)])\n",
        "      activations[\"A\" + str(o)] = temp_act[\"A\" + str(o)]*((np.random.rand(temp_act[\"A\" + str(o)].shape[0],temp_act[\"A\" + str(o)].shape[1]) < dropout_vals[o-1])/dropout_vals[o-1])\n",
        "      A_prev = activations[\"A\" + str(o)]\n",
        "  activations[\"A0\"] = X.T\n",
        "  return outputs,activations"
      ],
      "execution_count": 6,
      "outputs": []
    },
    {
      "cell_type": "code",
      "metadata": {
        "id": "7xujoSmpb4u1",
        "colab_type": "code",
        "colab": {}
      },
      "source": [
        "def grad_L1_reg(parameters):\n",
        "  comp = {}\n",
        "  for f in range(1,len(layer_dims)):\n",
        "    comp[\"W\" + str(f)] = np.zeros(parameters[\"W\" + str(f)].shape)\n",
        "  for k in range(1,len(layer_dims)):\n",
        "    for p in range(0,parameters[\"W\" + str(k)].shape[0]):\n",
        "      for n in range(0,parameters[\"W\" + str(k)].shape[1]):\n",
        "        if parameters[\"W\" + str(k)][p,n] > 0:\n",
        "          comp[\"W\" + str(k)][p,n] = 1\n",
        "        else:\n",
        "          comp[\"W\" + str(k)][p,n] = -1\n",
        "  return comp"
      ],
      "execution_count": 7,
      "outputs": []
    },
    {
      "cell_type": "code",
      "metadata": {
        "id": "rU1V2S77dUKp",
        "colab_type": "code",
        "colab": {}
      },
      "source": [
        "def L1_reg(comp,parameters,lamb,m_exam):\n",
        "  temp_sum = 0\n",
        "  grad_reg = {}\n",
        "  for k in range(1,len(layer_dims)):\n",
        "    temp_sum = temp_sum + ((lamb/m_exam)*(np.sum(np.sum(parameters[\"W\" + str(k)]))))\n",
        "    grad_reg[\"dW\" + str(k)] = ((lamb/m_exam)*(comp[\"W\" + str(k)]))\n",
        "  return temp_sum,grad_reg\n",
        "\n",
        "def L2_reg(parameters,lamb,m_exam):\n",
        "  temp_sum = 0\n",
        "  grad_reg = {}\n",
        "  for k in range(1,len(layer_dims)):\n",
        "    temp_sum = temp_sum + ((lamb/(2*m_exam))*(np.sum(np.sum(np.square(parameters[\"W\" + str(k)])))))\n",
        "    grad_reg[\"dW\" + str(k)] = ((lamb/m_exam)*(parameters[\"W\" + str(k)]))\n",
        "  return temp_sum,grad_reg"
      ],
      "execution_count": 8,
      "outputs": []
    },
    {
      "cell_type": "code",
      "metadata": {
        "id": "mgTZNoBko6H7",
        "colab_type": "code",
        "colab": {}
      },
      "source": [
        "\"\"\"\n",
        "    COST FUNCTION\n",
        "      > Cost function is calculated using the activations of the final layer of\n",
        "         the network and the ground truth y\n",
        "      > Arguments - activation, y, number_of_examples\n",
        "\"\"\"\n",
        " \n",
        "def cost_func(reg,lamb,parameters,A,y,m_exam):\n",
        "  if reg is not None:\n",
        "    if reg is \"L1\":\n",
        "      comp = grad_L1_reg(parameters)\n",
        "      temp_sum,grad_reg = L1_reg(comp,parameters,lamb,m_exam)\n",
        "      cost = ((-1/m_exam)*(np.sum(np.sum((y*np.log(A)) + ((1-y)*np.log(1-A)))))) + temp_sum\n",
        "    if reg is \"L2\":\n",
        "      temp_sum,grad_reg = L2_reg(parameters,lamb,m_exam)\n",
        "      cost = ((-1/m_exam)*(np.sum(np.sum((y*np.log(A)) + ((1-y)*np.log(1-A)))))) + temp_sum\n",
        "  else:\n",
        "    grad_reg = {}\n",
        "    cost = ((-1/m_exam)*(np.sum(np.sum((y*np.log(A)) + ((1-y)*np.log(1-A))))))\n",
        "    for r in range(1,len(layer_dims)):\n",
        "      grad_reg[\"dW\" + str(r)] = 0\n",
        "  return cost,grad_reg\n",
        "\n",
        "def cost_func_multi(reg,lamb,parameters,A,y,m_exam):\n",
        "  if reg is not None:\n",
        "    if reg is \"L1\":\n",
        "      comp = grad_L1_reg(parameters)\n",
        "      temp_sum,grad_reg = L1_reg(comp,parameters,lamb,m_exam)\n",
        "      cost = ((-1/m_exam)*(np.sum(np.sum((y*np.log(A)))))) + temp_sum\n",
        "    if reg is \"L2\":\n",
        "      temp_sum,grad_reg = L2_reg(parameters,lamb,m_exam)\n",
        "      cost = ((-1/m_exam)*(np.sum(np.sum((y*np.log(A)))))) + temp_sum\n",
        "  else:\n",
        "    grad_reg = {}\n",
        "    cost = ((-1/m_exam)*(np.sum(np.sum((y*np.log(A))))))\n",
        "    for r in range(1,len(layer_dims)):\n",
        "      grad_reg[\"dW\" + str(r)] = 0\n",
        "  return cost,grad_reg\n"
      ],
      "execution_count": 9,
      "outputs": []
    },
    {
      "cell_type": "code",
      "metadata": {
        "id": "TMhW4VMNo-Lf",
        "colab_type": "code",
        "colab": {}
      },
      "source": [
        "\"\"\"\n",
        "    GRADIENTS OF ACTIVATION FUNCTIONS\n",
        "      > Here the gradients of the activation functions are defined.\n",
        "      > This calculates the derivative of the activation of the ith layer to the\n",
        "         outputs of the ith layer\n",
        "      > Arguments - outputs Z\n",
        "\"\"\"\n",
        " \n",
        "def sigmoid_backward(z):\n",
        "  grad_back = np.exp(-z)/np.square(1+np.exp(-z))\n",
        "  return grad_back\n",
        "def relu_backward(x):\n",
        "  x[x<=0] = 0\n",
        "  x[x>0] = 1\n",
        "  return x\n",
        "def tang_backward(x):\n",
        "  return (1 - np.square(np.tanh(x)))"
      ],
      "execution_count": 10,
      "outputs": []
    },
    {
      "cell_type": "code",
      "metadata": {
        "id": "c5plu3-apArP",
        "colab_type": "code",
        "colab": {}
      },
      "source": [
        "\"\"\"\n",
        "    PREDICTIONS\n",
        "      > The predictions for the outputs of the network are calculated given a\n",
        "         threshold value for predicting the class of the input data according to\n",
        "         the parameters learned by the network.\n",
        "      > Arguments - A(Activations),threshold_for_classification\n",
        "\"\"\"\n",
        " \n",
        "def predict(A,threshold):\n",
        "  predictions = np.zeros((A.shape))\n",
        "  for v in range(0,A.shape[0]):\n",
        "    for w in range(0,A.shape[1]):\n",
        "      if A[v,w]>threshold:\n",
        "        predictions[v,w]=1\n",
        "      else:\n",
        "        predictions[v,w]=0\n",
        "  return predictions\n",
        "\n",
        "def predict_multi(A):\n",
        "  predictions_multi = np.zeros(A.shape)\n",
        "  for v in range(0,A.shape[1]):\n",
        "    temp = max(A[:,v])\n",
        "    for w in range(0,A.shape[0]):\n",
        "      if A[w,v] == temp:\n",
        "        predictions_multi[w,v] = 1\n",
        "      else:\n",
        "        predictions_multi[w,v] = 0\n",
        "  return predictions_multi"
      ],
      "execution_count": 11,
      "outputs": []
    },
    {
      "cell_type": "code",
      "metadata": {
        "id": "w-foTZcEVcox",
        "colab_type": "code",
        "colab": {}
      },
      "source": [
        "def create_mini_batches(X,Y,m_ex,mb_size):\n",
        "  mini_batch = {}\n",
        "  num = m_ex//mb_size\n",
        "  f = 0\n",
        "  for p in range(0,num):\n",
        "    mini_batch[\"MB_X\" + str(p)] = X[f:(f+mb_size),:]\n",
        "    mini_batch[\"MB_Y\" + str(p)] = Y[:,f:(f+mb_size)]\n",
        "    f = f + mb_size\n",
        "  mini_batch[\"MB_X\" + str(num)] = X[f:m_ex,:]\n",
        "  mini_batch[\"MB_Y\" + str(num)] = Y[:,f:m_ex]\n",
        "  return mini_batch,num"
      ],
      "execution_count": 12,
      "outputs": []
    },
    {
      "cell_type": "code",
      "metadata": {
        "id": "W7efzjjNL4Ft",
        "colab_type": "code",
        "colab": {}
      },
      "source": [
        "def grad_des(grad_reg,m_examp,alpha,grads,Y,activation_fn,outputs,activations,parameters):\n",
        "  grads[\"dA\" + str(len(layer_dims)-1)] = (-1/m_examp)*(Y/activations[\"A\" + str(len(layer_dims)-1)])\n",
        "  grads[\"dZ\" + str(len(layer_dims)-1)] = activations[\"A\" + str(len(layer_dims)-1)] - Y\n",
        "  grads[\"dW\" + str(len(layer_dims)-1)] = (np.dot(grads[\"dZ\" + str(len(layer_dims)-1)],activations[\"A\" + str(len(layer_dims)-2)].T)) + grad_reg[\"dW\" + str(len(layer_dims)-1)]\n",
        "  grads[\"db\" + str(len(layer_dims)-1)] = np.sum(grads[\"dZ\" + str(len(layer_dims)-1)],axis=1,keepdims=True)\n",
        "  for j in reversed(range(1,len(layer_dims)-1)):\n",
        "    if activation_fn[j-1] is \"relu\":\n",
        "      backward = relu_backward\n",
        "    if activation_fn[j-1] is \"tang\":\n",
        "      backward = tang_backward\n",
        "    if activation_fn[j-1] is \"sigmoid\":\n",
        "      backward = sigmoid_backward\n",
        "    grads[\"dA\" + str(j)] = np.dot(parameters[\"W\" + str(j+1)].T,grads[\"dZ\" + str(j+1)])\n",
        "    grads[\"dZ\" + str(j)] = grads[\"dA\" + str(j)]*backward(outputs[\"Z\" + str(j)])\n",
        "    grads[\"dW\" + str(j)] = (np.dot(grads[\"dZ\" + str(j)],activations[\"A\" + str(j-1)].T)) + grad_reg[\"dW\" + str(j)]\n",
        "    grads[\"db\" + str(j)] = np.sum(grads[\"dZ\" + str(j)],axis=1,keepdims=True)\n",
        "  for k in range(1,len(layer_dims)):\n",
        "    parameters[\"W\" + str(k)] -= (alpha*(grads[\"dW\" + str(k)]))\n",
        "    parameters[\"b\" + str(k)] -= (alpha*(grads[\"db\" + str(k)]))\n",
        "  return parameters\n",
        "\n",
        " \n",
        "def gd_mom(grad_reg,m_examp,V_dict,grads,alpha,beta1,Y,activation_fn,outputs,activations,parameters):\n",
        "  grads[\"dA\" + str(len(layer_dims)-1)] = (-1/m_examp)*(Y/activations[\"A\" + str(len(layer_dims)-1)])\n",
        "  grads[\"dZ\" + str(len(layer_dims)-1)] = activations[\"A\" + str(len(layer_dims)-1)] - Y\n",
        "  grads[\"dW\" + str(len(layer_dims)-1)] = (np.dot(grads[\"dZ\" + str(len(layer_dims)-1)],activations[\"A\" + str(len(layer_dims)-2)].T)) + grad_reg[\"dW\" + str(len(layer_dims)-1)]\n",
        "  grads[\"db\" + str(len(layer_dims)-1)] = np.sum(grads[\"dZ\" + str(len(layer_dims)-1)],axis=1,keepdims=True)\n",
        "  for j in reversed(range(1,len(layer_dims)-1)):\n",
        "    if activation_fn[j-1] is \"relu\":\n",
        "      backward = relu_backward\n",
        "    if activation_fn[j-1] is \"tang\":\n",
        "      backward = tang_backward\n",
        "    if activation_fn[j-1] is \"sigmoid\":\n",
        "      backward = sigmoid_backward\n",
        "    grads[\"dA\" + str(j)] = np.dot(parameters[\"W\" + str(j+1)].T,grads[\"dZ\" + str(j+1)])\n",
        "    grads[\"dZ\" + str(j)] = grads[\"dA\" + str(j)]*backward(outputs[\"Z\" + str(j)])\n",
        "    grads[\"dW\" + str(j)] = (np.dot(grads[\"dZ\" + str(j)],activations[\"A\" + str(j-1)].T)) + grad_reg[\"dW\" + str(j)]\n",
        "    grads[\"db\" + str(j)] = np.sum(grads[\"dZ\" + str(j)],axis=1,keepdims=True)\n",
        "  for h in range(1,len(layer_dims)):\n",
        "    V_dict[\"Vdw\" + str(h)] = (beta1*V_dict[\"Vdw\" + str(h)]) + ((1-beta1)*grads[\"dW\" + str(h)])\n",
        "    V_dict[\"Vdb\" + str(h)] = (beta1*V_dict[\"Vdb\" + str(h)]) + ((1-beta1)*grads[\"db\" + str(h)])\n",
        "  for g in range(1,len(layer_dims)):\n",
        "    parameters[\"W\" + str(g)] -= (alpha*(V_dict[\"Vdw\" + str(g)]))\n",
        "    parameters[\"b\" + str(g)] -= (alpha*(V_dict[\"Vdb\" + str(g)]))\n",
        "  return parameters\n",
        " \n",
        " \n",
        "def rms_prop(grad_reg,m_examp,S_dict,grads,epsilon,alpha,beta2,Y,activation_fn,outputs,activations,parameters):\n",
        "  grads[\"dA\" + str(len(layer_dims)-1)] = (-1/m_examp)*(Y/activations[\"A\" + str(len(layer_dims)-1)])\n",
        "  grads[\"dZ\" + str(len(layer_dims)-1)] = activations[\"A\" + str(len(layer_dims)-1)] - Y\n",
        "  grads[\"dW\" + str(len(layer_dims)-1)] = (np.dot(grads[\"dZ\" + str(len(layer_dims)-1)],activations[\"A\" + str(len(layer_dims)-2)].T)) + grad_reg[\"dW\" + str(len(layer_dims)-1)]\n",
        "  grads[\"db\" + str(len(layer_dims)-1)] = np.sum(grads[\"dZ\" + str(len(layer_dims)-1)],axis=1,keepdims=True)\n",
        "  for j in reversed(range(1,len(layer_dims)-1)):\n",
        "    if activation_fn[j-1] is \"relu\":\n",
        "      backward = relu_backward\n",
        "    if activation_fn[j-1] is \"tang\":\n",
        "      backward = tang_backward\n",
        "    if activation_fn[j-1] is \"sigmoid\":\n",
        "      backward = sigmoid_backward\n",
        "    grads[\"dA\" + str(j)] = np.dot(parameters[\"W\" + str(j+1)].T,grads[\"dZ\" + str(j+1)])\n",
        "    grads[\"dZ\" + str(j)] = grads[\"dA\" + str(j)]*backward(outputs[\"Z\" + str(j)])\n",
        "    grads[\"dW\" + str(j)] = (np.dot(grads[\"dZ\" + str(j)],activations[\"A\" + str(j-1)].T)) + grad_reg[\"dW\" + str(j)]\n",
        "    grads[\"db\" + str(j)] = np.sum(grads[\"dZ\" + str(j)],axis=1,keepdims=True)\n",
        "  for h in range(1,len(layer_dims)):\n",
        "    S_dict[\"Sdw\" + str(h)] = (beta2*S_dict[\"Sdw\" + str(h)]) + ((1-beta2)*np.square(grads[\"dW\" + str(h)]))\n",
        "    S_dict[\"Sdb\" + str(h)] = (beta2*S_dict[\"Sdb\" + str(h)]) + ((1-beta2)*np.square(grads[\"db\" + str(h)]))\n",
        "  for g in range(1,len(layer_dims)):\n",
        "    parameters[\"W\" + str(g)] -= ((alpha*grads[\"dW\" + str(g)])/(np.sqrt(S_dict[\"Sdw\" + str(g)]) + epsilon))\n",
        "    parameters[\"b\" + str(g)] -= ((alpha*grads[\"db\" + str(g)])/(np.sqrt(S_dict[\"Sdb\" + str(g)]) + epsilon))\n",
        "  return parameters\n",
        " \n",
        "def adam(grad_reg,t,m_examp,epsilon,grads,V_dict,S_dict,alpha,beta1,beta2,Y,activation_fn,outputs,activations,parameters):\n",
        "  S_dict_corr = {}\n",
        "  V_dict_corr = {}\n",
        "  grads[\"dA\" + str(len(layer_dims)-1)] = (-1/m_examp)*(Y/activations[\"A\" + str(len(layer_dims)-1)])\n",
        "  grads[\"dZ\" + str(len(layer_dims)-1)] = activations[\"A\" + str(len(layer_dims)-1)] - Y\n",
        "  grads[\"dW\" + str(len(layer_dims)-1)] = (np.dot(grads[\"dZ\" + str(len(layer_dims)-1)],activations[\"A\" + str(len(layer_dims)-2)].T)) + grad_reg[\"dW\" + str(len(layer_dims)-1)]\n",
        "  grads[\"db\" + str(len(layer_dims)-1)] = np.sum(grads[\"dZ\" + str(len(layer_dims)-1)],axis=1,keepdims=True)\n",
        "  for j in reversed(range(1,len(layer_dims)-1)):\n",
        "    if activation_fn[j-1] is \"relu\":\n",
        "      backward = relu_backward\n",
        "    if activation_fn[j-1] is \"tang\":\n",
        "      backward = tang_backward\n",
        "    if activation_fn[j-1] is \"sigmoid\":\n",
        "      backward = sigmoid_backward\n",
        "    grads[\"dA\" + str(j)] = np.dot(parameters[\"W\" + str(j+1)].T,grads[\"dZ\" + str(j+1)])\n",
        "    grads[\"dZ\" + str(j)] = grads[\"dA\" + str(j)]*backward(outputs[\"Z\" + str(j)])\n",
        "    grads[\"dW\" + str(j)] = (np.dot(grads[\"dZ\" + str(j)],activations[\"A\" + str(j-1)].T)) + grad_reg[\"dW\" + str(j)]\n",
        "    grads[\"db\" + str(j)] = np.sum(grads[\"dZ\" + str(j)],axis=1,keepdims=True)\n",
        "  for h in range(1,len(layer_dims)):\n",
        "    V_dict[\"Vdw\" + str(h)] = (beta1*V_dict[\"Vdw\" + str(h)]) + ((1-beta1)*grads[\"dW\" + str(h)])\n",
        "    V_dict[\"Vdb\" + str(h)] = (beta1*V_dict[\"Vdb\" + str(h)]) + ((1-beta1)*grads[\"db\" + str(h)])\n",
        "  for c in range(1,len(layer_dims)):\n",
        "    S_dict[\"Sdw\" + str(c)] = (beta2*S_dict[\"Sdw\" + str(c)]) + ((1-beta2)*np.square(grads[\"dW\" + str(c)]))\n",
        "    S_dict[\"Sdb\" + str(c)] = (beta2*S_dict[\"Sdb\" + str(c)]) + ((1-beta2)*np.square(grads[\"db\" + str(c)]))\n",
        "  for n in range(1,len(layer_dims)):\n",
        "    S_dict_corr[\"Sdw\" + str(n)] = S_dict[\"Sdw\" + str(n)]/(1 - np.power(beta2,t))\n",
        "    S_dict_corr[\"Sdb\" + str(n)] = S_dict[\"Sdb\" + str(n)]/(1 - np.power(beta2,t))\n",
        "    V_dict_corr[\"Vdw\" + str(n)] = V_dict[\"Vdw\" + str(n)]/(1 - np.power(beta1,t))\n",
        "    V_dict_corr[\"Vdb\" + str(n)] = V_dict[\"Vdb\" + str(n)]/(1 - np.power(beta1,t))\n",
        "  for g in range(1,len(layer_dims)):\n",
        "    parameters[\"W\" + str(g)] -= ((alpha*V_dict[\"Vdw\" + str(g)])/(np.sqrt(S_dict_corr[\"Sdw\" + str(g)]) + epsilon))\n",
        "    parameters[\"b\" + str(g)] -= ((alpha*V_dict[\"Vdb\" + str(g)])/(np.sqrt(S_dict_corr[\"Sdb\" + str(g)]) + epsilon))\n",
        "  return parameters"
      ],
      "execution_count": 13,
      "outputs": []
    },
    {
      "cell_type": "code",
      "metadata": {
        "id": "-hPalxms2Yat",
        "colab_type": "code",
        "colab": {}
      },
      "source": [
        "\"\"\"\n",
        "    PRECISION RECALL AND F1 SCORE\n",
        "      > Function is defined to calculate the precision, recall and F1 scores of the test and\n",
        "         cross validation data\n",
        "      > Returns the precision, recall and F1 score\n",
        "      > Arguments - Predictions_of_the_final_activation, y(ground_truth)\n",
        "\"\"\"\n",
        " \n",
        "def prec_rec(A,y):\n",
        "  epsilon = 1e-5\n",
        "  tp = 0\n",
        "  fp = 0\n",
        "  fn = 0\n",
        "  for i in range(0,y.shape[1]):\n",
        "    if ((A[0,i]==1) and (y[0,i]==1)):\n",
        "      tp = tp+1\n",
        "    if ((A[0,i]==1) and (y[0,i]==0)):\n",
        "      fp = fp+1\n",
        "    if ((A[0,i]==0) and (y[0,i]==1)):\n",
        "      fn = fn+1\n",
        "  prec = tp/(tp+fp+epsilon)\n",
        "  rec = tp/(tp+fn+epsilon)\n",
        "  f1 = (2*prec*rec)/(prec+rec+epsilon)\n",
        "  return prec,rec,f1"
      ],
      "execution_count": 14,
      "outputs": []
    },
    {
      "cell_type": "code",
      "metadata": {
        "id": "PR73BoUQZW95",
        "colab_type": "code",
        "colab": {}
      },
      "source": [
        "def prec_rec_multi(A,y):\n",
        "  epsilon = 1e-5\n",
        "  tp_multi = {}\n",
        "  fp_multi = {}\n",
        "  fn_multi = {}\n",
        "  prec_multi = {}\n",
        "  rec_multi = {}\n",
        "  f1_multi = {}\n",
        "  for r in range(0,num_classes):\n",
        "    tp_multi[\"class\" + str(r)] = 0\n",
        "    fp_multi[\"class\" + str(r)] = 0\n",
        "    fn_multi[\"class\" + str(r)] = 0\n",
        "  for c in range(0,y.shape[1]):\n",
        "    for g in range(0,y.shape[0]):\n",
        "      if ((A[g,c]==1) and (y[g,c]==1)):\n",
        "        tp_multi[\"class\" + str(g)] = tp_multi[\"class\" + str(g)] + 1\n",
        "      if ((A[g,c]==1) and (y[g,c]==0)):\n",
        "        fp_multi[\"class\" + str(g)] = fp_multi[\"class\" + str(g)] + 1\n",
        "      if ((A[g,c]==0) and (y[g,c]==1)):\n",
        "        fn_multi[\"class\" + str(g)] = fn_multi[\"class\" + str(g)] + 1\n",
        "  for n in range(0,num_classes):\n",
        "    prec_multi[\"class\" + str(n)] = tp_multi[\"class\" + str(n)] / (tp_multi[\"class\" + str(n)] + fp_multi[\"class\" + str(n)] + epsilon)\n",
        "    rec_multi[\"class\" + str(n)] = tp_multi[\"class\" + str(n)] / (tp_multi[\"class\" + str(n)] + fn_multi[\"class\" + str(n)] + epsilon)\n",
        "    f1_multi[\"class\" + str(n)] = (2*prec_multi[\"class\" + str(n)]*rec_multi[\"class\" + str(n)])/(prec_multi[\"class\" + str(n)] + rec_multi[\"class\" + str(n)] + epsilon)\n",
        "  return prec_multi,rec_multi,f1_multi"
      ],
      "execution_count": 15,
      "outputs": []
    },
    {
      "cell_type": "code",
      "metadata": {
        "id": "UXjPHtuX2aFa",
        "colab_type": "code",
        "colab": {}
      },
      "source": [
        "\"\"\"\n",
        "    PERFORMANCE ON TEST AND CROSS VALIDATION DATA\n",
        "      > This function evaluates the performance of the learning algorithm on test\n",
        "         and cross validation data\n",
        "      > Returns the accuracy, precision, recall and F1 score of test and cross validation\n",
        "         datasets\n",
        "      > Arguments - X,y,trained_parameters,print_values(True/False)\n",
        "\"\"\"\n",
        " \n",
        "\"\"\" \n",
        "def cross_val(X,y,params_tr,print_values):\n",
        "  out_cv,act_cv = forw_prop(X,params_tr,act_fn,False)\n",
        "  predictions_cv = predict(act_cv[\"A\" + str(len(layer_dims)-1)],0.5)\n",
        "  accu_cv = float(np.mean(predictions_cv==y,axis=1))*100\n",
        "  prec_cv,rec_cv,f1_cv = prec_rec(predictions_cv,y)\n",
        "  if print_values is True:\n",
        "    print(\"CROSS VAL RESULTS: \")\n",
        "    print(\"Cross val accuracy = \" + str(accu_cv))\n",
        "    print(\"Precision: \" + str(prec_cv))\n",
        "    print(\"Recall: \" + str(rec_cv))\n",
        "    print(\"F1 score: \" + str(f1_cv))\n",
        "    print('\\n')\n",
        "    print('\\n')\n",
        "  return accu_cv,prec_cv,rec_cv,f1_cv\"\"\"\n",
        "def test(X,y,params_tr,print_values):\n",
        "  out_te,act_te = forw_prop(X,params_tr,act_fn,False)\n",
        "  predictions_te = predict(act_te[\"A\" + str(len(layer_dims)-1)],0.5)\n",
        "  accu_te = float(np.mean(predictions_te==y,axis=1))*100\n",
        "  prec_te,rec_te,f1_te = prec_rec(predictions_te,y)\n",
        "  if print_values is True:\n",
        "    print(\"TEST RESULTS: \")\n",
        "    print(\"Testing accuracy = \" + str(accu_te))\n",
        "    print(\"Precision: \" + str(prec_te))\n",
        "    print(\"Recall: \" + str(rec_te))\n",
        "    print(\"F1 score: \" + str(f1_te))\n",
        "    print('\\n')\n",
        "    print('\\n')\n",
        "  return accu_te,prec_te,rec_te,f1_te\n",
        "\n",
        "\"\"\"\n",
        "def cross_val_multi(X,y,params_tr,print_values):\n",
        "  out_cv,act_cv = forw_prop(X,params_tr,act_fn,False)\n",
        "  predictions_cv = predict_multi(act_cv[\"A\" + str(len(layer_dims)-1)])\n",
        "  accu_cv_arr = []\n",
        "  for h in range(0,predictions_cv.shape[1]):\n",
        "    for g in range(0,predictions_cv.shape[0]):\n",
        "      if ((predictions_cv[g,h]==1) and (y[g,h]==1)):\n",
        "        accu_cv_arr.append(1)\n",
        "  accu_cv = np.mean(accu_cv_arr,axis=1)\n",
        "  prec_cv,rec_cv,f1_cv = prec_rec_multi(predictions_cv,y)\n",
        "  prec_avg_cv = 0\n",
        "  rec_avg_cv = 0\n",
        "  f1_avg_cv = 0\n",
        "  for h in range(0,num_classes):\n",
        "    prec_avg_cv = prec_avg_cv + prec_cv[\"class\" + str(h)]\n",
        "    rec_avg_cv = rec_avg_cv + rec_cv[\"class\" + str(h)]\n",
        "    f1_avg_cv = f1_avg_cv + f1_cv[\"class\" + str(h)]\n",
        "  prec_avg_cv = prec_avg_cv/num_classes\n",
        "  rec_avg_cv = rec_avg_cv/num_classes\n",
        "  f1_avg_cv = f1_avg_cv/num_classes\n",
        "\n",
        "  if print_values is True:\n",
        "    print(\"CROSS VAL RESULTS: \")\n",
        "    print(\"Cross val accuracy = \" + str(accu_cv))\n",
        "    print(\"Precision: \" + str(prec_avg_cv))\n",
        "    print(\"Recall: \" + str(rec_avg_cv))\n",
        "    print(\"F1 score: \" + str(f1_avg_cv))\n",
        "    print('\\n')\n",
        "    print('\\n')\n",
        "  return accu_cv,prec_avg_cv,rec_avg_cv,f1_avg_cv\"\"\"\n",
        "\n",
        "def test_multi(X,y,params_tr,print_values):\n",
        "  out_te,act_te = forw_prop(X,params_tr,act_fn,False)\n",
        "  predictions_te = predict_multi(act_te[\"A\" + str(len(layer_dims)-1)])\n",
        "  ones_arr = np.ones(predictions_te.shape)\n",
        "  temp1 = predictions_te==ones_arr\n",
        "  ind = []\n",
        "  for gee in range(0,temp1.shape[1]):\n",
        "    for jee in range(0,temp1.shape[0]):\n",
        "      if temp1[jee,gee] == True:\n",
        "        ind.append(jee)\n",
        "  ind_arr = np.array(ind)\n",
        "  accu_te = float(np.mean(ind_arr == Y_te_resh.T))*100\n",
        "  prec_te,rec_te,f1_te = prec_rec_multi(predictions_te,y)\n",
        "  prec_avg_te = 0\n",
        "  rec_avg_te = 0\n",
        "  f1_avg_te = 0\n",
        "  for h in range(0,num_classes):\n",
        "    prec_avg_te = prec_avg_te + prec_te[\"class\" + str(h)]\n",
        "    rec_avg_te = rec_avg_te + rec_te[\"class\" + str(h)]\n",
        "    f1_avg_te = f1_avg_te + f1_te[\"class\" + str(h)]\n",
        "  prec_avg_te = prec_avg_te/num_classes\n",
        "  rec_avg_te = rec_avg_te/num_classes\n",
        "  f1_avg_te = f1_avg_te/num_classes\n",
        "\n",
        "  if print_values is True:\n",
        "    print(\"TEST RESULTS: \")\n",
        "    print(\"Test accuracy = \" + str(accu_te))\n",
        "    print(\"Precision: \" + str(prec_avg_te))\n",
        "    print(\"Recall: \" + str(rec_avg_te))\n",
        "    print(\"F1 score: \" + str(f1_avg_te))\n",
        "    print('\\n')\n",
        "    print('\\n')\n",
        "  return accu_te,prec_avg_te,rec_avg_te,f1_avg_te"
      ],
      "execution_count": 16,
      "outputs": []
    },
    {
      "cell_type": "code",
      "metadata": {
        "id": "wSfxmf6TpFGd",
        "colab_type": "code",
        "colab": {}
      },
      "source": [
        "\"\"\"\n",
        "    FIT\n",
        "      > This function is used to train the network on training data and the weights\n",
        "         are updated by backpropagation through Optimization functions (Gradient descent,RMSprop,Adam)\n",
        "      > Returns \"costs\" a Python list consisting of all the costs through the iterations\n",
        "         and the updated \"parameters\" dictionary\n",
        "      > Returns the \"master_cache\" which contains the values of outputs, activations,\n",
        "         parameters throughout the training period of the format \"master_cache[\"Z\" + str(j) + str(_) + str(i)]\n",
        "         returns the outputs of the jth layer in the ith iteration of training\"\n",
        "      > Arguments - X(train),Y(train),number_of_training_examples,number_of_iterations,\n",
        "         learning_rate,parameters,activation_fn,print_cost(True/False),callback\n",
        "\"\"\"\n",
        " \n",
        "def fit(reg,lamb,X,Y,y_classes,m_ex,num_iterations,alpha,mb,optim,params,activation_fn,dr_out,print_cost,callback=None):\n",
        "  costs = []\n",
        "  costs_cache = []\n",
        "  accu_tr_arr = []\n",
        "  if mb is True:\n",
        "    mini_batches,num = create_mini_batches(X,Y,m_ex,mb_size)\n",
        "  p = 0\n",
        "  m = 0\n",
        "  if (num_iterations>=1000):\n",
        "    freq = 100\n",
        "  elif ((num_iterations<=500) and (num_iterations>=100)):\n",
        "    freq = 10\n",
        "  elif ((num_iterations>500) and (num_iterations<1000)):\n",
        "    freq = 20\n",
        "  else:\n",
        "    freq = 1\n",
        "  V_dict = {}\n",
        "  S_dict = {}\n",
        "  for k in range(1,len(layer_dims)):\n",
        "    V_dict[\"Vdw\" + str(k)] = np.zeros(params[\"W\" + str(k)].shape)\n",
        "    V_dict[\"Vdb\" + str(k)] = np.zeros(params[\"b\" + str(k)].shape)\n",
        "    S_dict[\"Sdw\" + str(k)] = np.zeros(params[\"W\" + str(k)].shape)\n",
        "    S_dict[\"Sdb\" + str(k)] = np.zeros(params[\"b\" + str(k)].shape)\n",
        "  \n",
        "  for i in range(1,num_iterations+1):\n",
        "    \n",
        "    if ((((optim is \"BGD\") or (optim is \"Momentum\")) or ((optim is \"RMSprop\") or (optim is \"Adam\"))) and (mb is False)):\n",
        "      grads = {}\n",
        "      accu_arr = []\n",
        "      outputs,activations = forw_prop(X,params,activation_fn,dr_out)\n",
        "      cost,grad_regs = cost_func_multi(reg,lamb,params,activations[\"A\" + str(len(layer_dims)-1)],Y,m_ex)\n",
        "      costs.append(cost)\n",
        "      costs_cache.append(cost)\n",
        "      predictions_multi = predict_multi(activations[\"A\" + str(len(layer_dims)-1)])\n",
        "      ones_array = np.ones(predictions_multi.shape)\n",
        "      temp1 = predictions_multi==ones_array\n",
        "      ind = []\n",
        "      for gee in range(0,temp1.shape[1]):\n",
        "        for jee in range(0,temp1.shape[0]):\n",
        "          if temp1[jee,gee] == True:\n",
        "            ind.append(jee)\n",
        "      if optim == \"BGD\":\n",
        "        params = grad_des(grad_regs,m_ex,alpha,grads,Y,activation_fn,outputs,activations,params)\n",
        "      if optim == \"Momentum\":\n",
        "        params = gd_mom(grad_regs,m_ex,V_dict,grads,alpha,0.9,Y,activation_fn,outputs,activations,params)\n",
        "      if optim == \"RMSprop\":\n",
        "        params = rms_prop(grad_regs,m_ex,S_dict,grads,1e-8,alpha,0.999,Y,activation_fn,outputs,activations,params)\n",
        "      if optim == \"Adam\":\n",
        "        params = adam(grad_regs,i,m_ex,1e-8,grads,V_dict,S_dict,alpha,0.9,0.999,Y,activation_fn,outputs,activations,params)\n",
        "      ind_arr = np.array(ind)\n",
        "      accu_tr = float(np.mean(ind_arr == Y_tr_resh.T))*100\n",
        "      accu_tr_arr.append(accu_tr)\n",
        "\n",
        "    if ((((optim is \"mBGD\") or (optim is \"Momentum\")) or ((optim is \"RMSprop\") or (optim is \"Adam\"))) and (mb is True)):\n",
        "      accu_arr = []\n",
        "      ind = []\n",
        "      for u in range(0,num+1):\n",
        "        grads = {}\n",
        "        outputs,activations = forw_prop(mini_batches[\"MB_X\" + str(u)],params,activation_fn,dr_out)\n",
        "        cost,grad_regs = cost_func_multi(reg,lamb,params,activations[\"A\" + str(len(layer_dims)-1)],mini_batches[\"MB_Y\" + str(u)],mini_batches[\"MB_X\" + str(u)].shape[0])\n",
        "        costs_cache.append(cost)\n",
        "        predict_MB_multi = predict_multi(activations[\"A\" + str(len(layer_dims)-1)])\n",
        "        ones_array = np.ones(predict_MB_multi.shape)\n",
        "        temp1 = predict_MB_multi==ones_array\n",
        "        for gee in range(0,temp1.shape[1]):\n",
        "          for jee in range(0,temp1.shape[0]):\n",
        "            if temp1[jee,gee] == True:\n",
        "              ind.append(jee)\n",
        "        if optim == \"mBGD\":\n",
        "          params = grad_des(grad_regs,mini_batches[\"MB_Y\" + str(u)].shape[1],alpha,grads,mini_batches[\"MB_Y\" + str(u)],activation_fn,outputs,activations,params)\n",
        "        if optim == \"Momentum\":\n",
        "          params = gd_mom(grad_regs,mini_batches[\"MB_Y\" + str(u)].shape[1],V_dict,grads,alpha,0.9,mini_batches[\"MB_Y\" + str(u)],activation_fn,outputs,activations,params)\n",
        "        if optim == \"RMSprop\":\n",
        "          params = rms_prop(grad_regs,mini_batches[\"MB_Y\" + str(u)].shape[1],S_dict,grads,1e-8,alpha,0.999,mini_batches[\"MB_Y\" + str(u)],activation_fn,outputs,activations,params)\n",
        "        if optim == \"Adam\":\n",
        "          params = adam(grad_regs,i,mini_batches[\"MB_Y\" + str(u)].shape[1],1e-8,grads,V_dict,S_dict,alpha,0.9,0.999,mini_batches[\"MB_Y\" + str(u)],activation_fn,outputs,activations,params)\n",
        "      m = m+1\n",
        "      ind_arr = np.array(ind)\n",
        "      accu_tr = float(np.mean(ind_arr == y_classes))*100\n",
        "      accu_tr_arr.append(accu_tr)\n",
        "      temp = costs_cache[(num*m)+(m-1)]\n",
        "      costs.append(temp)\n",
        "\n",
        "    if optim is \"SGD\":\n",
        "      accu_arr = []\n",
        "      ind = []\n",
        "      for q in range(0,m_ex):\n",
        "        grads = {}\n",
        "        x = X[q,:]\n",
        "        x = x.reshape(1,2)\n",
        "        y = Y[:,q]\n",
        "        y = y.reshape(1,1)\n",
        "        outputs,activations = forw_prop(x,params,activation_fn,dr_out)\n",
        "        cost,grad_regs = cost_func_multi(reg,lamb,params,activations[\"A\" + str(len(layer_dims)-1)],Y[:,q],1)\n",
        "        costs_cache.append(cost)\n",
        "        params = grad_des(grad_regs,1,alpha,grads,y,activation_fn,outputs,activations,params)\n",
        "        predict_SGD_multi = predict_multi(activations[\"A\" + str(len(layer_dims)-1)])\n",
        "        ones_array = np.ones(predict_SGD_multi.shape)\n",
        "        temp1 = predict_SGD_multi==ones_array\n",
        "        for gee in range(0,temp1.shape[1]):\n",
        "          for jee in range(0,temp1.shape[0]):\n",
        "            if temp1[jee,gee] == True:\n",
        "              ind.append(jee)\n",
        "      ind_arr = np.array(ind)\n",
        "      accu_tr = float(np.mean(ind_arr == y_classes.T))*100\n",
        "      accu_tr_arr.append(accu_tr)\n",
        "      m = m+1\n",
        "      temp = costs_cache[(m_ex*m)-1]\n",
        "      costs.append(temp)\n",
        "    \n",
        "    if ((print_cost is True) and (i%1==0)):\n",
        "        print(\"Cost after iteration \" + str(i) + \" is \" + str(costs[p]) + \" ------- \" + \"Training accuracy = \" + str(accu_tr_arr[p]))\n",
        "    p = p+1\n",
        "    if(i % 1 == 0):\n",
        "      if(callback is not None):\n",
        "                callback(i, params)\n",
        "  return costs, costs_cache, params"
      ],
      "execution_count": 17,
      "outputs": []
    },
    {
      "cell_type": "code",
      "metadata": {
        "id": "RFHen-5-pKrG",
        "colab_type": "code",
        "colab": {
          "base_uri": "https://localhost:8080/",
          "height": 442
        },
        "outputId": "d7d29224-a658-4c65-d66e-4c6042ef5bef"
      },
      "source": [
        "#Training the network\n",
        "\n",
        "mb_size = 1024\n",
        "parameters_dat = initialize_parameters(layer_dims,act_fn)\n",
        "\"\"\"\n",
        "outputs,activations = forw_prop(X_tr,parameters_dat,act_fn,False)\n",
        "cost,grad_regs = cost_func_multi(None,0,parameters_dat,activations[\"A\" + str(len(layer_dims)-1)],y_tr,m_tr)\n",
        "print(cost)\"\"\"\n",
        "costs,costs_cache,parameters = fit(None,0,X_tr,y_tr,Y_tr_resh.T,m_tr,25,0.005,True,\"Adam\",parameters_dat,act_fn,False,print_cost=True)"
      ],
      "execution_count": 18,
      "outputs": [
        {
          "output_type": "stream",
          "text": [
            "Cost after iteration 1 is 0.4496501203334767 ------- Training accuracy = 60.50833333333333\n",
            "Cost after iteration 2 is 0.23583424634084169 ------- Training accuracy = 89.44\n",
            "Cost after iteration 3 is 0.17382992171724862 ------- Training accuracy = 93.32333333333334\n",
            "Cost after iteration 4 is 0.1539949897328573 ------- Training accuracy = 94.8\n",
            "Cost after iteration 5 is 0.1383584799819641 ------- Training accuracy = 95.70166666666667\n",
            "Cost after iteration 6 is 0.12216901598442088 ------- Training accuracy = 96.37333333333333\n",
            "Cost after iteration 7 is 0.11656509997817713 ------- Training accuracy = 96.87\n",
            "Cost after iteration 8 is 0.11317471807368196 ------- Training accuracy = 97.245\n",
            "Cost after iteration 9 is 0.1061061394638028 ------- Training accuracy = 97.39333333333333\n",
            "Cost after iteration 10 is 0.09409307844741159 ------- Training accuracy = 97.34333333333333\n",
            "Cost after iteration 11 is 0.08767513659051727 ------- Training accuracy = 97.97166666666666\n",
            "Cost after iteration 12 is 0.07648903995400938 ------- Training accuracy = 98.285\n",
            "Cost after iteration 13 is 0.07021359874614856 ------- Training accuracy = 98.59333333333333\n",
            "Cost after iteration 14 is 0.06976776421059969 ------- Training accuracy = 98.735\n",
            "Cost after iteration 15 is 0.06986070198542206 ------- Training accuracy = 98.87166666666667\n",
            "Cost after iteration 16 is 0.06350063424110991 ------- Training accuracy = 98.87333333333333\n",
            "Cost after iteration 17 is 0.0641356785792002 ------- Training accuracy = 98.90166666666667\n",
            "Cost after iteration 18 is 0.05131118461259761 ------- Training accuracy = 98.97833333333334\n",
            "Cost after iteration 19 is 0.04221287574659935 ------- Training accuracy = 99.215\n",
            "Cost after iteration 20 is 0.03677081064071256 ------- Training accuracy = 99.24166666666666\n",
            "Cost after iteration 21 is 0.03976153577636366 ------- Training accuracy = 99.21\n",
            "Cost after iteration 22 is 0.04535842578767668 ------- Training accuracy = 99.00333333333333\n",
            "Cost after iteration 23 is 0.040947561768401135 ------- Training accuracy = 98.845\n",
            "Cost after iteration 24 is 0.03173721305011095 ------- Training accuracy = 98.91\n",
            "Cost after iteration 25 is 0.048847166904595785 ------- Training accuracy = 99.10166666666666\n"
          ],
          "name": "stdout"
        }
      ]
    },
    {
      "cell_type": "code",
      "metadata": {
        "id": "GkWRQHNFsJAf",
        "colab_type": "code",
        "colab": {}
      },
      "source": [
        "out_te, act_te = forw_prop(X_te,parameters,act_fn, False)\n",
        "predictions_te = predict_multi(act_te[\"A\" + str(len(layer_dims) - 1)])\n",
        "ones_arr = np.ones(predictions_te.shape)\n",
        "temp1 = predictions_te == ones_arr\n",
        "ind = []\n",
        "for gee in range(0, temp1.shape[1]):\n",
        "    for jee in range(0, temp1.shape[0]):\n",
        "        if temp1[jee, gee] == True:\n",
        "            ind.append(jee)\n",
        "ind_arr = np.array(ind)"
      ],
      "execution_count": 27,
      "outputs": []
    },
    {
      "cell_type": "code",
      "metadata": {
        "id": "ECUpZaLmuOOb",
        "colab_type": "code",
        "colab": {
          "base_uri": "https://localhost:8080/",
          "height": 298
        },
        "outputId": "393c3264-d123-4cad-def5-8201668a503c"
      },
      "source": [
        "foo = 5646\n",
        "second_image = X_test_orig[foo, :]\n",
        "second_label = Y_te_resh[foo]\n",
        "second_pred_label = ind_arr[foo]\n",
        "plt.imshow(second_image, cmap='gray_r')\n",
        "plt.title('Digit Label: {} Predicted Label: {}'.format(second_label,second_pred_label))"
      ],
      "execution_count": 37,
      "outputs": [
        {
          "output_type": "execute_result",
          "data": {
            "text/plain": [
              "Text(0.5, 1.0, 'Digit Label: [1] Predicted Label: 1')"
            ]
          },
          "metadata": {
            "tags": []
          },
          "execution_count": 37
        },
        {
          "output_type": "display_data",
          "data": {
            "image/png": "[encoded data removed]",
            "text/plain": [
              "<Figure size 432x288 with 1 Axes>"
            ]
          },
          "metadata": {
            "tags": [],
            "needs_background": "light"
          }
        }
      ]
    },
    {
      "cell_type": "code",
      "metadata": {
        "id": "DGMrrC5urNrh",
        "colab_type": "code",
        "colab": {
          "base_uri": "https://localhost:8080/",
          "height": 187
        },
        "outputId": "4a6b40ec-8dd7-44d4-f7a8-3694a455bdf2"
      },
      "source": [
        "test_multi(X_te,y_te,parameters,print_values=True)"
      ],
      "execution_count": null,
      "outputs": [
        {
          "output_type": "stream",
          "text": [
            "TEST RESULTS: \n",
            "Test accuracy = 97.32\n",
            "Precision: 0.9730947875619205\n",
            "Recall: 0.973109597263155\n",
            "F1 score: 0.9730115486996492\n",
            "\n",
            "\n",
            "\n",
            "\n"
          ],
          "name": "stdout"
        },
        {
          "output_type": "execute_result",
          "data": {
            "text/plain": [
              "(97.32, 0.9730947875619205, 0.973109597263155, 0.9730115486996492)"
            ]
          },
          "metadata": {
            "tags": []
          },
          "execution_count": 19
        }
      ]
    },
    {
      "cell_type": "code",
      "metadata": {
        "id": "tvUedUnle2iX",
        "colab_type": "code",
        "colab": {
          "base_uri": "https://localhost:8080/",
          "height": 295
        },
        "outputId": "52f61f8c-71d7-4650-b13f-a6de2c5ad61e"
      },
      "source": [
        "itera = np.arange(1,len(costs)+1)\n",
        "def animate_plot(x_ax,y_ax,X_lab,Y_lab,plot_title,leg,loca,plot_col,direc,freq):\n",
        "  y_vals = y_ax\n",
        "  x_vals = x_ax\n",
        "  plt.axes(xlim=(0,len(x_vals)),ylim=(0,max(y_vals)))\n",
        "  l = 0\n",
        "  for k in range(1,len(x_vals)+1):\n",
        "    plt.xlabel(X_lab)\n",
        "    plt.ylabel(Y_lab)\n",
        "    plt.title(plot_title)\n",
        "    plt.legend([leg],loc=loca)\n",
        "    plt.plot(x_vals[0:l],y_vals[0:l],color=plot_col)\n",
        "    l = l+1\n",
        "    if k%freq==0:\n",
        "      plt.savefig(direc + 'plot{}.png'.format(k//freq))\n",
        "  return\n",
        "\n",
        "\"\"\"def animate_plot_multi(x_ax,y_ax,X_lab,Y_lab,plot_title,leg,loca,plot_col,direc,freq):\n",
        "  x_vals = {}\n",
        "  y_vals = {}\n",
        "  for m in range(0,len(x_ax)):\n",
        "    x_vals[\"X\" + str(m)] = x_ax[m]\n",
        "  for g in range(0,len(y_ax)):\n",
        "    y_vals[\"Y\" + str(g)] = y_ax[g]\n",
        "  plt.axes(xlim=(0,len(x_ax[0])),ylim=(0,100))\n",
        "  for h in range(0,len(leg)):\n",
        "    plt.plot([],[],color=plot_col[h],label = leg[h])\n",
        "  plt.legend(loc=loca)\n",
        "  l = 0\n",
        "  for k in range(1,len(x_ax[0])+1):\n",
        "    plt.xlabel(X_lab)\n",
        "    plt.ylabel(Y_lab)\n",
        "    plt.title(plot_title)\n",
        "    for d in range(0,len(x_ax)):\n",
        "      plt.plot(x_vals[\"X\" + str(d)][0:l],y_vals[\"Y\" + str(d)][0:l],color=plot_col[d])\n",
        "    l = l+1\n",
        "    if k%freq==0:\n",
        "      plt.savefig(direc + 'plot{}.png'.format(k//freq))\n",
        "  return\"\"\"\n",
        "animate_plot_multi([itera,itera],[accu_tr_arr,accu_cv_arr],'Number of Iterations','Accuracy','Train-Cross Val Accuracy Curve',['Train', 'Cross Val'],'upper right',['m','r'],'/content/drive/My Drive/Colab Notebooks/nn_visuals/fun4/',50)"
      ],
      "execution_count": null,
      "outputs": [
        {
          "output_type": "display_data",
          "data": {
            "image/png": "[encoded data removed]",
            "text/plain": [
              "<Figure size 432x288 with 1 Axes>"
            ]
          },
          "metadata": {
            "tags": [],
            "needs_background": "light"
          }
        }
      ]
    },
    {
      "cell_type": "code",
      "metadata": {
        "id": "hRuSKwVSZZ7r",
        "colab_type": "code",
        "colab": {
          "base_uri": "https://localhost:8080/",
          "height": 297
        },
        "outputId": "dd0bd87e-5e43-4888-d73e-4ea62ecbd81f"
      },
      "source": [
        "#Group Plots\n",
        "\n",
        "itera = np.arange(1,len(costs)+1,1)\n",
        "fig, axs = plt.subplots(1, 3, figsize=(15,4))\n",
        "axs[0].set_xlabel('Number of Iterations')\n",
        "axs[0].set_ylabel('Cost')\n",
        "axs[0].set_title('Cost Function Variation')\n",
        "axs[0].plot(itera,costs,color='c',linewidth=2)\n",
        "plt.tight_layout()\n",
        "axs[1].set_xlabel('Number of Iterations')\n",
        "axs[1].set_ylabel('Accuracy')\n",
        "axs[1].set_title('Train-Cross Val Accuracy Curve')\n",
        "axs[1].plot(itera,accu_tr_arr,color='m',label='Train',linewidth=2)\n",
        "axs[1].plot(itera,accu_cv_arr,color='r',label='Cross Val',linewidth=2)\n",
        "axs[1].legend(loc='lower right')\n",
        "plt.tight_layout()\n",
        "axs[2].set_xlabel('Recall')\n",
        "axs[2].set_ylabel('Precision')\n",
        "axs[2].set_title('Precision-Recall Curve')\n",
        "axs[2].plot(prec_cv_arr,rec_cv_arr,color='g',linewidth=2)\n",
        "plt.tight_layout()"
      ],
      "execution_count": null,
      "outputs": [
        {
          "output_type": "display_data",
          "data": {
            "image/png": "[encoded data removed]",
            "text/plain": [
              "<Figure size 1080x288 with 3 Axes>"
            ]
          },
          "metadata": {
            "tags": []
          }
        }
      ]
    },
    {
      "cell_type": "code",
      "metadata": {
        "id": "bFrS1HpMpjdQ",
        "colab_type": "code",
        "colab": {
          "base_uri": "https://localhost:8080/",
          "height": 312
        },
        "outputId": "cabf2742-0636-4113-92f2-dce8fc965eb8"
      },
      "source": [
        "#Plotting Cost vs Number of Iterations\n",
        "\n",
        "itera = np.arange(1,len(costs)+1,1)\n",
        "plt.xlabel('Number of Iterations')\n",
        "plt.ylabel('Cost')\n",
        "plt.title('Cost Function Variation')\n",
        "plt.plot(itera,costs,color='c',linewidth=2)"
      ],
      "execution_count": null,
      "outputs": [
        {
          "output_type": "execute_result",
          "data": {
            "text/plain": [
              "[<matplotlib.lines.Line2D at 0x7f8f68e567b8>]"
            ]
          },
          "metadata": {
            "tags": []
          },
          "execution_count": 21
        },
        {
          "output_type": "display_data",
          "data": {
            "image/png": "[encoded data removed]",
            "text/plain": [
              "<Figure size 432x288 with 1 Axes>"
            ]
          },
          "metadata": {
            "tags": [],
            "needs_background": "light"
          }
        }
      ]
    },
    {
      "cell_type": "code",
      "metadata": {
        "id": "X-Yfe--OOvQt",
        "colab_type": "code",
        "colab": {
          "base_uri": "https://localhost:8080/",
          "height": 312
        },
        "outputId": "74916bec-0d52-4057-e3c8-9fa02fadcf6c"
      },
      "source": [
        "#Plotting Training accuracy vs Cross-validation accuracy\n",
        "\n",
        "itera = np.arange(1,len(costs)+1,1)\n",
        "plt.xlabel('Number of Iterations')\n",
        "plt.ylabel('Accuracy')\n",
        "plt.title('Train - Cross Val Accuracy Curve')\n",
        "plt.plot(itera,accu_tr_arr,color='m',linewidth=2)\n",
        "plt.plot(itera,accu_cv_arr,color='r',linewidth=2)\n",
        "plt.legend([\"Train\",\"Cross Val\"],loc=\"lower right\")"
      ],
      "execution_count": null,
      "outputs": [
        {
          "output_type": "execute_result",
          "data": {
            "text/plain": [
              "<matplotlib.legend.Legend at 0x7f6bf486b470>"
            ]
          },
          "metadata": {
            "tags": []
          },
          "execution_count": 102
        },
        {
          "output_type": "display_data",
          "data": {
            "image/png": "[encoded data removed]",
            "text/plain": [
              "<Figure size 432x288 with 1 Axes>"
            ]
          },
          "metadata": {
            "tags": [],
            "needs_background": "light"
          }
        }
      ]
    },
    {
      "cell_type": "code",
      "metadata": {
        "id": "t4Bh1tSINbG9",
        "colab_type": "code",
        "colab": {
          "base_uri": "https://localhost:8080/",
          "height": 312
        },
        "outputId": "585a7cb2-d24b-417c-c506-37175b398e5d"
      },
      "source": [
        "#Plotting Precision vs Recall\n",
        "\n",
        "plt.xlabel('Recall')\n",
        "plt.ylabel('Precision')\n",
        "plt.title('Precision-Recall Curve')\n",
        "plt.plot(prec_cv_arr,rec_cv_arr,color='g',linewidth=2)"
      ],
      "execution_count": null,
      "outputs": [
        {
          "output_type": "execute_result",
          "data": {
            "text/plain": [
              "[<matplotlib.lines.Line2D at 0x7f6bf4431400>]"
            ]
          },
          "metadata": {
            "tags": []
          },
          "execution_count": 104
        },
        {
          "output_type": "display_data",
          "data": {
            "image/png": "[encoded data removed]",
            "text/plain": [
              "<Figure size 432x288 with 1 Axes>"
            ]
          },
          "metadata": {
            "tags": [],
            "needs_background": "light"
          }
        }
      ]
    },
    {
      "cell_type": "code",
      "metadata": {
        "id": "l2jSaEHdpnxN",
        "colab_type": "code",
        "colab": {}
      },
      "source": [
        "#Decision Boundary Visualisation helper functions\n",
        "#Remember to set the path to which the graphs should be stored in \"OUTPUT_DIR\"\n",
        "\n",
        "sns.set_style(\"whitegrid\")\n",
        "GRID_X_START = -1.5\n",
        "GRID_X_END = 2.5\n",
        "GRID_Y_START = -1.0\n",
        "GRID_Y_END = 2\n",
        "OUTPUT_DIR = \"/content/drive/My Drive/Colab Notebooks/nn_visuals/fun5\"\n",
        "grid = np.mgrid[GRID_X_START:GRID_X_END:100j,GRID_X_START:GRID_Y_END:100j]\n",
        "grid_2d = grid.reshape(2,-1)\n",
        "XX, YY = grid\n",
        "def make_plot(X, y, plot_name, file_name=None, XX=None, YY=None, preds=None, dark=False):\n",
        "    if (dark):\n",
        "        plt.style.use('dark_background')\n",
        "    else:\n",
        "        sns.set_style(\"whitegrid\")\n",
        "    plt.figure(figsize=(16,12))\n",
        "    axes = plt.gca()\n",
        "    axes.set(xlabel=\"$X_1$\", ylabel=\"$X_2$\")\n",
        "    plt.title(plot_name, fontsize=30)\n",
        "    plt.subplots_adjust(left=0.20)\n",
        "    plt.subplots_adjust(right=0.80)\n",
        "    if(XX is not None and YY is not None and preds is not None):\n",
        "        plt.contourf(XX, YY, preds.reshape(XX.shape), 25, alpha = 1, cmap=cm.Spectral)\n",
        "        plt.contour(XX, YY, preds.reshape(XX.shape), levels=[.5], cmap=\"Greys\", vmin=0, vmax=.6)\n",
        "    plt.scatter(X[:, 0], X[:, 1], c=y.ravel(), s=40, cmap=plt.cm.Spectral, edgecolors='black')\n",
        "    if(file_name):\n",
        "        plt.savefig(file_name)\n",
        "        plt.close()\n",
        "import os\n",
        "def callback_numpy_plot(index, init_params):\n",
        "    plot_title = \"Iteration {:05}\".format(index)\n",
        "    file_name = \"numpy_model_{:05}.png\".format(index//1)\n",
        "    file_path = os.path.join(OUTPUT_DIR, file_name)\n",
        "    out,act = forw_prop(np.transpose(grid_2d),init_params,act_fn,False)\n",
        "    prediction_probs = act[\"A\" + str(len(layer_dims)-1)]\n",
        "    prediction_probs = prediction_probs.reshape(prediction_probs.shape[1], 1)\n",
        "    make_plot(X_te, y_te, plot_title, file_name=file_path, XX=XX, YY=YY, preds=prediction_probs, dark=True)"
      ],
      "execution_count": null,
      "outputs": []
    },
    {
      "cell_type": "code",
      "metadata": {
        "id": "GaBatc_6p62v",
        "colab_type": "code",
        "colab": {}
      },
      "source": [
        "#Decision Boundary Visualisation\n",
        "\n",
        "mb_size = 16\n",
        "layer_dims_vis = layer_dims\n",
        "layer_dims_vis[0] = 2\n",
        "parameters_dat = initialize_parameters(layer_dims_vis,act_fn)\n",
        "_,_,params_values,_,_,_,_ = fit(\"L2\",0.09,X_tr,y_tr,m_tr,5000,0.005,False,\"SGD\",parameters_dat,act_fn,True,print_cost=False,callback=callback_numpy_plot)"
      ],
      "execution_count": null,
      "outputs": []
    },
    {
      "cell_type": "code",
      "metadata": {
        "id": "xZW1bV68p_Gx",
        "colab_type": "code",
        "colab": {
          "base_uri": "https://localhost:8080/",
          "height": 747
        },
        "outputId": "a5e4fa3b-2585-4c18-fdf3-99f1539cc06d"
      },
      "source": [
        "#Get the final Decision Boundary at the end of training evaluated on the test set \n",
        "\n",
        "out,act = forw_prop(np.transpose(grid_2d),params_values,act_fn,False)\n",
        "prediction_probs_np = act[\"A\" + str(len(layer_dims)-1)]\n",
        "prediction_probs_np = prediction_probs_np.reshape(prediction_probs_np.shape[1], 1)\n",
        "make_plot(X_te, y_te, \"ADAM_1000_0.005_64MB_dr_out=F\", file_name=None, XX=XX, YY=YY, preds=prediction_probs_np, dark=True)"
      ],
      "execution_count": null,
      "outputs": [
        {
          "output_type": "display_data",
          "data": {
            "image/png": "[encoded data removed]",
            "text/plain": [
              "<Figure size 1152x864 with 1 Axes>"
            ]
          },
          "metadata": {
            "tags": []
          }
        }
      ]
    },
    {
      "cell_type": "code",
      "metadata": {
        "id": "xQyPTkd8VuWE",
        "colab_type": "code",
        "colab": {}
      },
      "source": [
        ""
      ],
      "execution_count": null,
      "outputs": []
    }
  ]
}