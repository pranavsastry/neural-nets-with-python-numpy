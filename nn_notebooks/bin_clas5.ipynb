{
  "nbformat": 4,
  "nbformat_minor": 0,
  "metadata": {
    "colab": {
      "name": "bin_clas.ipynb",
      "provenance": [],
      "collapsed_sections": []
    },
    "kernelspec": {
      "name": "python3",
      "display_name": "Python 3"
    }
  },
  "cells": [
    {
      "cell_type": "code",
      "metadata": {
        "id": "tWIr65IilAMP",
        "colab_type": "code",
        "colab": {
          "base_uri": "https://localhost:8080/",
          "height": 71
        },
        "outputId": "cbb173d7-ca82-40bc-d3c7-c4d29f010470"
      },
      "source": [
        "#Importing libraries\n",
        " \n",
        "import os\n",
        "import numpy as np\n",
        "from sklearn.datasets import make_circles\n",
        "from sklearn.model_selection import train_test_split\n",
        "import seaborn as sns\n",
        "import matplotlib.pyplot as plt\n",
        "from matplotlib import cm\n",
        "from mpl_toolkits.mplot3d import Axes3D\n",
        "from matplotlib import pyplot\n",
        "from pandas import DataFrame"
      ],
      "execution_count": 1,
      "outputs": [
        {
          "output_type": "stream",
          "text": [
            "/usr/local/lib/python3.6/dist-packages/statsmodels/tools/_testing.py:19: FutureWarning: pandas.util.testing is deprecated. Use the functions in the public API at pandas.testing instead.\n",
            "  import pandas.util.testing as tm\n"
          ],
          "name": "stderr"
        }
      ]
    },
    {
      "cell_type": "code",
      "metadata": {
        "id": "_R7vIDz5moGo",
        "colab_type": "code",
        "colab": {
          "base_uri": "https://localhost:8080/",
          "height": 279
        },
        "outputId": "60b3be92-01fa-44e1-f296-ac90ce9189e7"
      },
      "source": [
        "\"\"\"\n",
        "    DATA PREPARATION\n",
        "      > Loading the dataset and splitting it into train, cross validation and test sets\n",
        "      > The inputs are to be in the format of X.shape = (number_of_examples, number_of features)\n",
        "      > The outputs are to be in the format of y.shape = (number_of_output_units, number_of_examples)\n",
        "\"\"\"\n",
        " \n",
        "N_SAMPLES = 1000\n",
        "TEST_SIZE = 0.1\n",
        "X, y = make_circles(n_samples = N_SAMPLES, noise=0.05, random_state=100)\n",
        "X_tr, X_te, y_tr_t, y_te_t = train_test_split(X, y, test_size=TEST_SIZE, random_state=42)\n",
        "y_tr_t = y_tr_t.reshape(y_tr_t.shape[0],1)\n",
        "y_te_t = y_te_t.reshape(y_te_t.shape[0],1)\n",
        "m_tr = y_tr_t.shape[0]\n",
        "m_te = y_te_t.shape[0]\n",
        "y_tr = y_tr_t.T\n",
        "y_te = y_te_t.T\n",
        " \n",
        " \n",
        "#Plotting the data\n",
        " \n",
        "df = DataFrame(dict(x=X[:,0], y=X[:,1], label=y))\n",
        "colors = {0:'red', 1:'blue'}\n",
        "fig, ax = pyplot.subplots()\n",
        "grouped = df.groupby('label')\n",
        "for key, group in grouped:\n",
        "    group.plot(ax=ax, kind='scatter', x='x', y='y', label=key, color=colors[key])\n",
        "pyplot.show()"
      ],
      "execution_count": 2,
      "outputs": [
        {
          "output_type": "display_data",
          "data": {
            "image/png": "[encoded data removed]",
            "text/plain": [
              "<Figure size 432x288 with 1 Axes>"
            ]
          },
          "metadata": {
            "tags": [],
            "needs_background": "light"
          }
        }
      ]
    },
    {
      "cell_type": "code",
      "metadata": {
        "id": "i1V3Z1HpokA4",
        "colab_type": "code",
        "colab": {}
      },
      "source": [
        "\"\"\"\n",
        "    ACTIVATION FUNCTIONS\n",
        "      > Defining the activation functions for the neural network. Note here that \n",
        "         the \"tanh\" activation function is implemented as \"tang(x)\"\n",
        "\"\"\"\n",
        " \n",
        "def sigmoid(x):\n",
        "  return (1/(1+np.exp(-x)))\n",
        "def relu(x):\n",
        "    return np.maximum(0,x)\n",
        "def tang(x):\n",
        "  return np.tanh(x)"
      ],
      "execution_count": 3,
      "outputs": []
    },
    {
      "cell_type": "code",
      "metadata": {
        "id": "7pR71Fydolfm",
        "colab_type": "code",
        "colab": {}
      },
      "source": [
        "\"\"\"\n",
        "    DEFINING UNITS AND ACTIVATION FUNCTIONS\n",
        "      > Here the number of units in each layer and as a result the number of layers\n",
        "         in our neural network is defined in a Python list \"layer_dims\"\n",
        "      > Activation functions for each of the layers is also defined in the Python\n",
        "         list \"act_fn\"\n",
        "      > Note here that the length of act_fn is one less than that of the length of\n",
        "         layer_dims\n",
        "\"\"\"\n",
        " \n",
        "layer_dims = [X_tr.shape[1],4,9,9,6,5,1]\n",
        "act_fn = [\"tang\",\"tang\",\"tang\",\"tang\",\"tang\",\"sigmoid\"]"
      ],
      "execution_count": 4,
      "outputs": []
    },
    {
      "cell_type": "code",
      "metadata": {
        "id": "LqvuIXEDo2Ro",
        "colab_type": "code",
        "colab": {}
      },
      "source": [
        "\"\"\"\n",
        "    INITIALISING THE PARAMETERS\n",
        "      > The parameters of the neural network are 1.Weights and 2.Bias and these\n",
        "         parameters are tweaked while training the network. \n",
        "      > Weights and bias for each of the layers(excluding the input layer) are\n",
        "         initialised randomly and special weight initialisation techniques are\n",
        "         used depending on the activation function of the layer.\n",
        "      > Weights and bias are stored in the Python dictionary \"parameters\" and the\n",
        "         weights of the ith layer are stored by keyword Wi and the bias in bi\n",
        "      > Wi.shape = (number_of_units_in_(i-1)th_layer, number_of_units_in_(i)th_layer)\n",
        "      > bi.shape = (number_of_units_in_(i)th_layer,1)\n",
        "      > Arguments - layer_dims,act_fn\n",
        "\"\"\"\n",
        " \n",
        "def initialize_parameters(layer_dims,activation_fn):\n",
        "  parameters = {}\n",
        "  relu_init = 2\n",
        "  tang_init = 1\n",
        "  for i in range(1,len(layer_dims)):\n",
        "    if activation_fn[i-1] is \"relu\":\n",
        "      initi = relu_init\n",
        "    if activation_fn[i-1] is \"tang\":\n",
        "      initi = tang_init\n",
        "    parameters[\"W\"+str(i)] = np.random.randn(layer_dims[i],layer_dims[i-1])*np.sqrt(initi/layer_dims[i-1])\n",
        "    parameters[\"b\"+str(i)] = np.random.randn(layer_dims[i],1)*0.01\n",
        "  return parameters"
      ],
      "execution_count": 5,
      "outputs": []
    },
    {
      "cell_type": "code",
      "metadata": {
        "id": "2szTq5wmo4OO",
        "colab_type": "code",
        "colab": {}
      },
      "source": [
        "\"\"\"\n",
        "    FORWARD PROPAGATION\n",
        "      > The forward propagation makes a forward pass through the neural net. The\n",
        "         outputs of all the layers are computed and then the activation\n",
        "         for that particular layer is calculated.\n",
        "      > The python dictionaries \"outputs\" are used to store the output of the dot\n",
        "         product between the weights and the inputs and \"activations\" are used to\n",
        "         store the activations of the outputs of that layer\n",
        "      > The \"outputs\" contain keywords of the format Zi for the outputs of the ith\n",
        "         layer and the \"activations\" contain keywords of the format Ai for the activations\n",
        "         of the ith layer based on its activations as specified in \"acts_fn\"\n",
        "      > The input data is also stored in A0 and is handy for back propagation\n",
        "      > Arguments - Input_Data, parameters, activation_fn\n",
        "\"\"\"\n",
        " \n",
        "def forw_prop(X,parameters,activation_fn):\n",
        "  outputs = {}\n",
        "  activations = {}\n",
        "  A_prev = X.T\n",
        "  for i in range(1,len(layer_dims)):\n",
        "    if activation_fn[i-1] is \"relu\":\n",
        "      activ = relu\n",
        "    if activation_fn[i-1] is \"tang\":\n",
        "      activ = tang\n",
        "    if activation_fn[i-1] is \"sigmoid\":\n",
        "      activ = sigmoid\n",
        "    outputs[\"Z\" + str(i)] = np.dot(parameters[\"W\" + str(i)],A_prev) + parameters[\"b\"+str(i)]\n",
        "    activations[\"A\" + str(i)] = activ(outputs[\"Z\" + str(i)])\n",
        "    A_prev = activations[\"A\" + str(i)]\n",
        "  activations[\"A0\"] = X.T\n",
        "  return outputs,activations"
      ],
      "execution_count": 6,
      "outputs": []
    },
    {
      "cell_type": "code",
      "metadata": {
        "id": "mgTZNoBko6H7",
        "colab_type": "code",
        "colab": {}
      },
      "source": [
        "\"\"\"\n",
        "    COST FUNCTION\n",
        "      > Cost function is calculated using the activations of the final layer of\n",
        "         the network and the ground truth y\n",
        "      > Arguments - activation, y, number_of_examples\n",
        "\"\"\"\n",
        " \n",
        "def cost_func(A,y,m_ex):\n",
        "  cost = ((-1/m_ex)*(np.sum(np.sum((y*np.log(A)) + ((1-y)*np.log(1-A))))))\n",
        "  return cost"
      ],
      "execution_count": 7,
      "outputs": []
    },
    {
      "cell_type": "code",
      "metadata": {
        "id": "TMhW4VMNo-Lf",
        "colab_type": "code",
        "colab": {}
      },
      "source": [
        "\"\"\"\n",
        "    GRADIENTS OF ACTIVATION FUNCTIONS\n",
        "      > Here the gradients of the activation functions are defined.\n",
        "      > This calculates the derivative of the activation of the ith layer to the\n",
        "         outputs of the ith layer\n",
        "      > Arguments - outputs Z\n",
        "\"\"\"\n",
        " \n",
        "def sigmoid_backward(z):\n",
        "  grad_back = np.exp(-z)/np.square(1+np.exp(-z))\n",
        "  return grad_back\n",
        "def relu_backward(x):\n",
        "  x[x<=0] = 0\n",
        "  x[x>0] = 1\n",
        "  return x\n",
        "def tang_backward(x):\n",
        "  return (1 - np.square(np.tanh(x)))"
      ],
      "execution_count": 8,
      "outputs": []
    },
    {
      "cell_type": "code",
      "metadata": {
        "id": "c5plu3-apArP",
        "colab_type": "code",
        "colab": {}
      },
      "source": [
        "\"\"\"\n",
        "    PREDICTIONS\n",
        "      > The predictions for the outputs of the network are calculated given a\n",
        "         threshold value for predicting the class of the input data according to\n",
        "         the parameters learned by the network.\n",
        "      > Arguments - A(Activations),threshold_for_classification\n",
        "\"\"\"\n",
        " \n",
        "def predict(A,threshold):\n",
        "  predictions = np.zeros((A.shape))\n",
        "  for i in range(0,A.shape[0]):\n",
        "    for j in range(0,A.shape[1]):\n",
        "      if A[i,j]>threshold:\n",
        "        predictions[i,j]=1\n",
        "      else:\n",
        "        predictions[i,j]=0\n",
        "  return predictions"
      ],
      "execution_count": 9,
      "outputs": []
    },
    {
      "cell_type": "code",
      "metadata": {
        "id": "w-foTZcEVcox",
        "colab_type": "code",
        "colab": {}
      },
      "source": [
        "def create_mini_batches(X,Y,m_ex,mb_size):\n",
        "  mini_batch = {}\n",
        "  num = m_ex//mb_size\n",
        "  f = 0\n",
        "  for i in range(0,num):\n",
        "    mini_batch[\"MB_X\" + str(i)] = X[f:(f+mb_size),:]\n",
        "    mini_batch[\"MB_Y\" + str(i)] = Y[:,f:(f+mb_size)]\n",
        "    f = f + mb_size\n",
        "  mini_batch[\"MB_X\" + str(num)] = X[f:m_ex,:]\n",
        "  mini_batch[\"MB_Y\" + str(num)] = Y[:,f:m_ex]\n",
        "  return mini_batch,num"
      ],
      "execution_count": 10,
      "outputs": []
    },
    {
      "cell_type": "code",
      "metadata": {
        "id": "W7efzjjNL4Ft",
        "colab_type": "code",
        "colab": {}
      },
      "source": [
        "def grad_des(m_ex,alpha,grads,Y,activation_fn,outputs,activations,parameters):\n",
        "  if activation_fn[len(layer_dims)-2] is \"relu\":\n",
        "    backward = relu_backward\n",
        "  if activation_fn[len(layer_dims)-2] is \"tang\":\n",
        "    backward = tang_backward\n",
        "  if activation_fn[len(layer_dims)-2] is \"sigmoid\":\n",
        "    backward = sigmoid_backward\n",
        "  grads[\"dA\" + str(len(layer_dims)-1)] = (1/m_ex)*(((1-Y)/(1-activations[\"A\" + str(len(layer_dims)-1)])) - (Y/activations[\"A\" + str(len(layer_dims)-1)]))\n",
        "  grads[\"dZ\" + str(len(layer_dims)-1)] = grads[\"dA\" + str(len(layer_dims)-1)]*backward(outputs[\"Z\" + str(len(layer_dims)-1)])\n",
        "  grads[\"dW\" + str(len(layer_dims)-1)] = np.dot(grads[\"dZ\" + str(len(layer_dims)-1)],activations[\"A\" + str(len(layer_dims)-2)].T)\n",
        "  grads[\"db\" + str(len(layer_dims)-1)] = np.sum(grads[\"dZ\" + str(len(layer_dims)-1)],axis=1,keepdims=True)\n",
        "  for j in reversed(range(1,len(layer_dims)-1)):\n",
        "    if activation_fn[j-1] is \"relu\":\n",
        "      backward = relu_backward\n",
        "    if activation_fn[j-1] is \"tang\":\n",
        "      backward = tang_backward\n",
        "    if activation_fn[j-1] is \"sigmoid\":\n",
        "      backward = sigmoid_backward\n",
        "    grads[\"dA\" + str(j)] = np.dot(parameters[\"W\" + str(j+1)].T,grads[\"dZ\" + str(j+1)])\n",
        "    grads[\"dZ\" + str(j)] = grads[\"dA\" + str(j)]*backward(outputs[\"Z\" + str(j)])\n",
        "    grads[\"dW\" + str(j)] = np.dot(grads[\"dZ\" + str(j)],activations[\"A\" + str(j-1)].T)\n",
        "    grads[\"db\" + str(j)] = np.sum(grads[\"dZ\" + str(j)],axis=1,keepdims=True)\n",
        "  for k in range(1,len(layer_dims)):\n",
        "    parameters[\"W\" + str(k)] -= (alpha*(grads[\"dW\" + str(k)]))\n",
        "    parameters[\"b\" + str(k)] -= (alpha*(grads[\"db\" + str(k)]))\n",
        "  return parameters\n",
        "\n",
        " \n",
        "def gd_mom(m_ex,V_dict,grads,alpha,beta1,Y,activation_fn,outputs,activations,parameters):\n",
        "  if activation_fn[len(layer_dims)-2] is \"relu\":\n",
        "    backward = relu_backward\n",
        "  if activation_fn[len(layer_dims)-2] is \"tang\":\n",
        "    backward = tang_backward\n",
        "  if activation_fn[len(layer_dims)-2] is \"sigmoid\":\n",
        "    backward = sigmoid_backward\n",
        "  grads[\"dA\" + str(len(layer_dims)-1)] = (1/m_ex)*(((1-Y)/(1-activations[\"A\" + str(len(layer_dims)-1)])) - (Y/activations[\"A\" + str(len(layer_dims)-1)]))\n",
        "  grads[\"dZ\" + str(len(layer_dims)-1)] = grads[\"dA\" + str(len(layer_dims)-1)]*backward(outputs[\"Z\" + str(len(layer_dims)-1)])\n",
        "  grads[\"dW\" + str(len(layer_dims)-1)] = np.dot(grads[\"dZ\" + str(len(layer_dims)-1)],activations[\"A\" + str(len(layer_dims)-2)].T)\n",
        "  grads[\"db\" + str(len(layer_dims)-1)] = np.sum(grads[\"dZ\" + str(len(layer_dims)-1)],axis=1,keepdims=True)\n",
        "  for j in reversed(range(1,len(layer_dims)-1)):\n",
        "    if activation_fn[j-1] is \"relu\":\n",
        "      backward = relu_backward\n",
        "    if activation_fn[j-1] is \"tang\":\n",
        "      backward = tang_backward\n",
        "    if activation_fn[j-1] is \"sigmoid\":\n",
        "      backward = sigmoid_backward\n",
        "    grads[\"dA\" + str(j)] = np.dot(parameters[\"W\" + str(j+1)].T,grads[\"dZ\" + str(j+1)])\n",
        "    grads[\"dZ\" + str(j)] = grads[\"dA\" + str(j)]*backward(outputs[\"Z\" + str(j)])\n",
        "    grads[\"dW\" + str(j)] = np.dot(grads[\"dZ\" + str(j)],activations[\"A\" + str(j-1)].T)\n",
        "    grads[\"db\" + str(j)] = np.sum(grads[\"dZ\" + str(j)],axis=1,keepdims=True)\n",
        "  for h in range(1,len(layer_dims)):\n",
        "    V_dict[\"Vdw\" + str(h)] = (beta1*V_dict[\"Vdw\" + str(h)]) + ((1-beta1)*grads[\"dW\" + str(h)])\n",
        "    V_dict[\"Vdb\" + str(h)] = (beta1*V_dict[\"Vdb\" + str(h)]) + ((1-beta1)*grads[\"db\" + str(h)])\n",
        "  for g in range(1,len(layer_dims)):\n",
        "    parameters[\"W\" + str(g)] -= (alpha*(V_dict[\"Vdw\" + str(g)]))\n",
        "    parameters[\"b\" + str(g)] -= (alpha*(V_dict[\"Vdb\" + str(g)]))\n",
        "  return parameters\n",
        " \n",
        " \n",
        "def rms_prop(m_ex,S_dict,grads,epsilon,alpha,beta2,Y,activation_fn,outputs,activations,parameters):\n",
        "  if activation_fn[len(layer_dims)-2] is \"relu\":\n",
        "    backward = relu_backward\n",
        "  if activation_fn[len(layer_dims)-2] is \"tang\":\n",
        "    backward = tang_backward\n",
        "  if activation_fn[len(layer_dims)-2] is \"sigmoid\":\n",
        "    backward = sigmoid_backward\n",
        "  grads[\"dA\" + str(len(layer_dims)-1)] = (1/m_ex)*(((1-Y)/(1-activations[\"A\" + str(len(layer_dims)-1)])) - (Y/activations[\"A\" + str(len(layer_dims)-1)]))\n",
        "  grads[\"dZ\" + str(len(layer_dims)-1)] = grads[\"dA\" + str(len(layer_dims)-1)]*backward(outputs[\"Z\" + str(len(layer_dims)-1)])\n",
        "  grads[\"dW\" + str(len(layer_dims)-1)] = np.dot(grads[\"dZ\" + str(len(layer_dims)-1)],activations[\"A\" + str(len(layer_dims)-2)].T)\n",
        "  grads[\"db\" + str(len(layer_dims)-1)] = np.sum(grads[\"dZ\" + str(len(layer_dims)-1)],axis=1,keepdims=True)\n",
        "  for j in reversed(range(1,len(layer_dims)-1)):\n",
        "    if activation_fn[j-1] is \"relu\":\n",
        "      backward = relu_backward\n",
        "    if activation_fn[j-1] is \"tang\":\n",
        "      backward = tang_backward\n",
        "    if activation_fn[j-1] is \"sigmoid\":\n",
        "      backward = sigmoid_backward\n",
        "    grads[\"dA\" + str(j)] = np.dot(parameters[\"W\" + str(j+1)].T,grads[\"dZ\" + str(j+1)])\n",
        "    grads[\"dZ\" + str(j)] = grads[\"dA\" + str(j)]*backward(outputs[\"Z\" + str(j)])\n",
        "    grads[\"dW\" + str(j)] = np.dot(grads[\"dZ\" + str(j)],activations[\"A\" + str(j-1)].T)\n",
        "    grads[\"db\" + str(j)] = np.sum(grads[\"dZ\" + str(j)],axis=1,keepdims=True)\n",
        "  for h in range(1,len(layer_dims)):\n",
        "    S_dict[\"Sdw\" + str(h)] = (beta2*S_dict[\"Sdw\" + str(h)]) + ((1-beta2)*np.square(grads[\"dW\" + str(h)]))\n",
        "    S_dict[\"Sdb\" + str(h)] = (beta2*S_dict[\"Sdb\" + str(h)]) + ((1-beta2)*np.square(grads[\"db\" + str(h)]))\n",
        "  for g in range(1,len(layer_dims)):\n",
        "    parameters[\"W\" + str(g)] -= ((alpha*grads[\"dW\" + str(g)])/(np.sqrt(S_dict[\"Sdw\" + str(g)]) + epsilon))\n",
        "    parameters[\"b\" + str(g)] -= ((alpha*grads[\"db\" + str(g)])/(np.sqrt(S_dict[\"Sdb\" + str(g)]) + epsilon))\n",
        "  return parameters\n",
        " \n",
        "def adam(t,m_ex,epsilon,grads,V_dict,S_dict,alpha,beta1,beta2,Y,activation_fn,outputs,activations,parameters):\n",
        "  S_dict_corr = {}\n",
        "  V_dict_corr = {}\n",
        "  if activation_fn[len(layer_dims)-2] is \"relu\":\n",
        "    backward = relu_backward\n",
        "  if activation_fn[len(layer_dims)-2] is \"tang\":\n",
        "    backward = tang_backward\n",
        "  if activation_fn[len(layer_dims)-2] is \"sigmoid\":\n",
        "    backward = sigmoid_backward\n",
        "  grads[\"dA\" + str(len(layer_dims)-1)] = (1/m_ex)*(((1-Y)/(1-activations[\"A\" + str(len(layer_dims)-1)])) - (Y/activations[\"A\" + str(len(layer_dims)-1)]))\n",
        "  grads[\"dZ\" + str(len(layer_dims)-1)] = grads[\"dA\" + str(len(layer_dims)-1)]*backward(outputs[\"Z\" + str(len(layer_dims)-1)])\n",
        "  grads[\"dW\" + str(len(layer_dims)-1)] = np.dot(grads[\"dZ\" + str(len(layer_dims)-1)],activations[\"A\" + str(len(layer_dims)-2)].T)\n",
        "  grads[\"db\" + str(len(layer_dims)-1)] = np.sum(grads[\"dZ\" + str(len(layer_dims)-1)],axis=1,keepdims=True)\n",
        "  for j in reversed(range(1,len(layer_dims)-1)):\n",
        "    if activation_fn[j-1] is \"relu\":\n",
        "      backward = relu_backward\n",
        "    if activation_fn[j-1] is \"tang\":\n",
        "      backward = tang_backward\n",
        "    if activation_fn[j-1] is \"sigmoid\":\n",
        "      backward = sigmoid_backward\n",
        "    grads[\"dA\" + str(j)] = np.dot(parameters[\"W\" + str(j+1)].T,grads[\"dZ\" + str(j+1)])\n",
        "    grads[\"dZ\" + str(j)] = grads[\"dA\" + str(j)]*backward(outputs[\"Z\" + str(j)])\n",
        "    grads[\"dW\" + str(j)] = np.dot(grads[\"dZ\" + str(j)],activations[\"A\" + str(j-1)].T)\n",
        "    grads[\"db\" + str(j)] = np.sum(grads[\"dZ\" + str(j)],axis=1,keepdims=True)\n",
        "  for h in range(1,len(layer_dims)):\n",
        "    V_dict[\"Vdw\" + str(h)] = (beta1*V_dict[\"Vdw\" + str(h)]) + ((1-beta1)*grads[\"dW\" + str(h)])\n",
        "    V_dict[\"Vdb\" + str(h)] = (beta1*V_dict[\"Vdb\" + str(h)]) + ((1-beta1)*grads[\"db\" + str(h)])\n",
        "  for c in range(1,len(layer_dims)):\n",
        "    S_dict[\"Sdw\" + str(c)] = (beta2*S_dict[\"Sdw\" + str(c)]) + ((1-beta2)*np.square(grads[\"dW\" + str(c)]))\n",
        "    S_dict[\"Sdb\" + str(c)] = (beta2*S_dict[\"Sdb\" + str(c)]) + ((1-beta2)*np.square(grads[\"db\" + str(c)]))\n",
        "  for n in range(1,len(layer_dims)):\n",
        "    S_dict_corr[\"Sdw\" + str(n)] = S_dict[\"Sdw\" + str(n)]/(1 - np.power(beta2,t))\n",
        "    S_dict_corr[\"Sdb\" + str(n)] = S_dict[\"Sdb\" + str(n)]/(1 - np.power(beta2,t))\n",
        "    V_dict_corr[\"Vdw\" + str(n)] = V_dict[\"Vdw\" + str(n)]/(1 - np.power(beta1,t))\n",
        "    V_dict_corr[\"Vdb\" + str(n)] = V_dict[\"Vdb\" + str(n)]/(1 - np.power(beta1,t))\n",
        "  for g in range(1,len(layer_dims)):\n",
        "    parameters[\"W\" + str(g)] -= ((alpha*V_dict[\"Vdw\" + str(g)])/(np.sqrt(S_dict_corr[\"Sdw\" + str(g)]) + epsilon))\n",
        "    parameters[\"b\" + str(g)] -= ((alpha*V_dict[\"Vdb\" + str(g)])/(np.sqrt(S_dict_corr[\"Sdb\" + str(g)]) + epsilon))\n",
        "  return parameters"
      ],
      "execution_count": 11,
      "outputs": []
    },
    {
      "cell_type": "code",
      "metadata": {
        "id": "OOwnyH7wWwqU",
        "colab_type": "code",
        "colab": {
          "base_uri": "https://localhost:8080/",
          "height": 629
        },
        "outputId": "610a2ece-bb0f-46b8-9841-f2309a288d79"
      },
      "source": [
        "q = X_tr[0,:]\n",
        "z = y_tr[:,0]\n",
        "q = q.reshape(1,2)\n",
        "z = z.reshape(1,1)\n",
        "print(X_tr)\n",
        "print(y_tr)\n",
        "print(q)\n",
        "print(q.shape)\n",
        "print(z)\n",
        "print(z.shape)"
      ],
      "execution_count": 29,
      "outputs": [
        {
          "output_type": "stream",
          "text": [
            "[[ 1.03258039 -0.01004631]\n",
            " [-0.4310026  -0.66713017]\n",
            " [-0.83860781 -0.62953622]\n",
            " ...\n",
            " [-0.97365344 -0.11511122]\n",
            " [-1.01601571 -0.35534095]\n",
            " [-0.98445974  0.10913161]]\n",
            "[[0 1 0 1 1 0 0 1 1 0 1 0 1 0 1 1 1 0 1 0 0 0 0 0 1 1 1 1 0 1 1 0 1 1 1 0\n",
            "  1 0 1 1 1 0 0 1 1 0 0 0 0 0 1 1 1 1 0 0 0 1 0 1 0 1 1 0 1 0 0 0 0 1 0 0\n",
            "  0 1 1 1 1 0 0 1 1 1 0 0 0 0 0 0 0 0 0 0 0 1 0 0 1 1 1 0 1 1 1 1 0 0 0 0\n",
            "  1 0 0 0 1 0 1 1 0 1 1 0 0 1 1 0 1 1 0 1 0 0 1 0 1 0 0 0 1 1 1 0 0 1 1 1\n",
            "  0 0 0 1 1 1 1 0 0 1 0 0 0 1 0 0 1 1 0 1 1 0 1 0 0 0 0 1 1 1 0 1 1 0 1 1\n",
            "  0 1 1 1 0 0 0 1 0 1 1 1 1 0 0 0 1 1 1 0 1 1 0 1 0 0 0 0 1 1 1 1 1 1 1 0\n",
            "  1 0 1 0 1 0 0 0 1 1 1 1 1 0 1 0 1 1 0 1 0 1 0 1 0 1 1 1 1 1 1 0 0 0 1 1\n",
            "  0 0 1 0 0 1 1 1 0 0 0 1 1 1 1 0 1 1 1 0 1 0 0 1 1 0 0 0 1 0 0 0 0 0 0 1\n",
            "  1 0 0 0 1 1 1 1 1 1 1 1 0 1 0 0 0 0 1 1 1 0 1 0 0 0 1 1 1 1 1 0 0 1 1 0\n",
            "  1 1 0 1 1 0 0 1 1 1 0 0 0 1 1 1 1 1 1 1 0 0 0 0 1 1 1 1 0 0 1 1 1 1 0 1\n",
            "  1 1 1 0 0 1 1 0 0 0 0 1 0 1 0 0 1 1 0 1 1 0 1 1 0 0 0 1 0 1 1 1 0 1 1 1\n",
            "  1 0 1 0 0 1 0 0 1 1 0 0 0 0 1 0 1 0 1 0 1 1 1 1 1 0 0 0 1 1 0 1 0 0 0 0\n",
            "  0 0 0 1 1 0 0 1 0 0 1 0 0 0 0 1 1 0 0 1 0 1 1 0 0 1 1 0 1 1 1 1 0 0 0 1\n",
            "  1 1 1 1 0 0 1 0 0 0 0 0 1 1 1 1 0 1 0 0 0 0 1 1 1 1 0 1 0 0 0 1 1 0 1 1\n",
            "  0 1 1 0 1 0 1 0 0 1 0 1 1 1 1 0 0 1 0 0 0 1 1 0 1 0 1 0 1 0 0 1 1 1 0 1\n",
            "  0 1 1 0 1 0 0 1 1 0 1 1 0 0 1 1 1 1 0 1 1 0 1 1 0 0 1 1 1 1 0 1 1 1 0 0\n",
            "  1 1 0 0 1 0 1 1 0 1 1 1 1 0 0 0 0 1 0 0 0 1 0 0 1 1 1 0 0 1 0 0 1 0 1 1\n",
            "  1 0 0 0 0 1 1 0 1 0 0 1 1 1 0 1 0 0 0 0 0 1 0 0 1 1 1 1 1 0 1 0 1 1 1 0\n",
            "  0 0 0 0 0 0 0 0 1 1 1 0 0 0 0 0 1 0 1 1 1 0 1 1 1 0 0 0 0 0 1 1 0 1 1 0\n",
            "  1 0 0 0 1 1 0 0 1 1 1 1 0 1 1 1 1 0 1 1 0 0 0 0 0 1 0 0 1 0 1 1 0 1 1 0\n",
            "  0 1 0 1 0 0 0 0 1 0 1 1 0 0 1 1 0 0 0 0 1 1 1 0 0 0 1 0 1 0 0 1 0 1 0 0\n",
            "  0 0 0 1 0 0 0 1 0 0 1 0 1 0 1 1 1 0 1 1 1 0 1 1 0 1 1 0 0 0 0 0 0 1 1 1\n",
            "  0 0 1 0 0 1 1 1 0 0 0 0 1 0 0 0 0 1 1 0 0 1 1 0 1 0 0 1 1 0 1 0 1 1 0 0\n",
            "  0 0 1 0 0 0 1 1 1 1 0 1 1 1 0 1 0 0 0 0 0 0 1 1 1 0 0 1 0 1 0 1 1 1 0 0\n",
            "  1 0 1 1 1 1 0 0 1 0 0 0 1 1 1 0 0 1 0 0 1 1 0 0 0 1 1 1 1 1 1 0 1 0 0 0]]\n",
            "[[ 1.03258039 -0.01004631]]\n",
            "(1, 2)\n",
            "[[0]]\n",
            "(1, 1)\n"
          ],
          "name": "stdout"
        }
      ]
    },
    {
      "cell_type": "code",
      "metadata": {
        "id": "wSfxmf6TpFGd",
        "colab_type": "code",
        "colab": {}
      },
      "source": [
        "\"\"\"\n",
        "    FIT\n",
        "      > This function is used to train the network on training data and the weights\n",
        "         are updated by backpropagation through Optimization functions (Gradient descent,RMSprop,Adam)\n",
        "      > Returns \"costs\" a Python list consisting of all the costs through the iterations\n",
        "         and the updated \"parameters\" dictionary\n",
        "      > Returns the \"master_cache\" which contains the values of outputs, activations,\n",
        "         parameters throughout the training period of the format \"master_cache[\"Z\" + str(j) + str(_) + str(i)]\n",
        "         returns the outputs of the jth layer in the ith iteration of training\"\n",
        "      > Arguments - X(train),Y(train),number_of_training_examples,number_of_iterations,\n",
        "         learning_rate,parameters,activation_fn,print_cost(True/False),callback\n",
        "\"\"\"\n",
        " \n",
        "def fit(X,Y,m_ex,num_iterations,alpha,mb,optim,params,activation_fn,print_cost,callback=None):\n",
        "  costs = []\n",
        "  costs_cache = []\n",
        "  if mb is True:\n",
        "    mini_batches,num = create_mini_batches(X,Y,m_ex,mb_size)\n",
        "  p = 0\n",
        "  m = 0\n",
        "  V_dict = {}\n",
        "  S_dict = {}\n",
        "  for k in range(1,len(layer_dims)):\n",
        "    V_dict[\"Vdw\" + str(k)] = np.zeros(params[\"W\" + str(k)].shape)\n",
        "    V_dict[\"Vdb\" + str(k)] = np.zeros(params[\"b\" + str(k)].shape)\n",
        "    S_dict[\"Sdw\" + str(k)] = np.zeros(params[\"W\" + str(k)].shape)\n",
        "    S_dict[\"Sdb\" + str(k)] = np.zeros(params[\"b\" + str(k)].shape)\n",
        "  \n",
        "  for i in range(1,num_iterations+1):\n",
        "    \n",
        "    if ((((optim is \"BGD\") or (optim is \"Momentum\")) or ((optim is \"RMSprop\") or (optim is \"Adam\"))) and (mb is False)):\n",
        "      grads = {}\n",
        "      outputs,activations = forw_prop(X,params,activation_fn)\n",
        "      cost = cost_func(activations[\"A\" + str(len(layer_dims)-1)],Y,m_ex)\n",
        "      costs.append(cost)\n",
        "      costs_cache.append(cost)\n",
        "      predictions = predict(activations[\"A\" + str(len(layer_dims)-1)],0.5)\n",
        "      if optim == \"BGD\":\n",
        "        params = grad_des(m_ex,alpha,grads,Y,activation_fn,outputs,activations,params)\n",
        "      if optim == \"Momentum\":\n",
        "        params = gd_mom(m_ex,V_dict,grads,alpha,0.9,Y,activation_fn,outputs,activations,params)\n",
        "      if optim == \"RMSprop\":\n",
        "        params = rms_prop(m_ex,S_dict,grads,1e-8,alpha,0.999,Y,activation_fn,outputs,activations,params)\n",
        "      if optim == \"Adam\":\n",
        "        params = adam(i,m_ex,1e-8,grads,V_dict,S_dict,alpha,0.9,0.999,Y,activation_fn,outputs,activations,params)\n",
        "\n",
        "    if ((((optim is \"mBGD\") or (optim is \"Momentum\")) or ((optim is \"RMSprop\") or (optim is \"Adam\"))) and (mb is True)):\n",
        "      predictions_py = []\n",
        "      for u in range(0,num+1):\n",
        "        grads = {}\n",
        "        outputs,activations = forw_prop(mini_batches[\"MB_X\" + str(u)],params,activation_fn)\n",
        "        cost = cost_func(activations[\"A\" + str(len(layer_dims)-1)],mini_batches[\"MB_Y\" + str(u)],m_ex)\n",
        "        costs_cache.append(cost)\n",
        "        predict_MB = predict(activations[\"A\" + str(len(layer_dims)-1)],0.5)\n",
        "        for w in range(0,predict_MB.shape[1]):\n",
        "          predictions_py.append(predict_MB[:,w])\n",
        "        if optim == \"mBGD\":\n",
        "          params = grad_des(mini_batches[\"MB_Y\" + str(u)].shape[1],alpha,grads,mini_batches[\"MB_Y\" + str(u)],activation_fn,outputs,activations,params)\n",
        "        if optim == \"Momentum\":\n",
        "          params = gd_mom(m_ex,V_dict,grads,alpha,0.9,mini_batches[\"MB_Y\" + str(u)],activation_fn,outputs,activations,params)\n",
        "        if optim == \"RMSprop\":\n",
        "          params = rms_prop(m_ex,S_dict,grads,1e-8,alpha,0.999,mini_batches[\"MB_Y\" + str(u)],activation_fn,outputs,activations,params)\n",
        "        if optim == \"Adam\":\n",
        "          params = adam(i,m_ex,1e-8,grads,V_dict,S_dict,alpha,0.9,0.999,mini_batches[\"MB_Y\" + str(u)],activation_fn,outputs,activations,params)\n",
        "      m = m+1\n",
        "      temp = costs_cache[(num*m)+(m-1)]\n",
        "      costs.append(temp)\n",
        "      predictions = np.array(predictions_py).T\n",
        "      \n",
        "\n",
        "    if optim is \"SGD\":\n",
        "      predictions_py = []\n",
        "      for q in range(0,m_ex):\n",
        "        grads = {}\n",
        "        x = X[q,:]\n",
        "        x = x.reshape(1,2)\n",
        "        y = Y[:,q]\n",
        "        y = y.reshape(1,1)\n",
        "        outputs,activations = forw_prop(x,params,activation_fn)\n",
        "        cost = cost_func(activations[\"A\" + str(len(layer_dims)-1)],Y[:,q],1)\n",
        "        costs_cache.append(cost)\n",
        "        params = grad_des(1,alpha,grads,y,activation_fn,outputs,activations,params)\n",
        "        predict_SGD = predict(activations[\"A\" + str(len(layer_dims)-1)],0.5)\n",
        "        for w in range(0,predict_SGD.shape[1]):\n",
        "          predictions_py.append(predict_SGD[:,w])\n",
        "      m = m+1\n",
        "      temp = costs_cache[(m_ex*m)-1]\n",
        "      costs.append(temp)\n",
        "      predictions = np.array(predictions_py).T\n",
        "    \n",
        "    if ((print_cost is True) and (i%1==0)):\n",
        "        print(\"Cost after iteration \" + str(i) + \" is \" + str(costs[p]) + \" -------- \" + \"Training accuracy = \" + str(float(np.mean(predictions==Y,axis=1))*100))\n",
        "    p = p+1\n",
        "    if(i % 1 == 0):\n",
        "      if(callback is not None):\n",
        "                callback(i, params)\n",
        "  return costs, costs_cache, params#, master_cache"
      ],
      "execution_count": 32,
      "outputs": []
    },
    {
      "cell_type": "code",
      "metadata": {
        "id": "r1DSgF-3pIVs",
        "colab_type": "code",
        "colab": {}
      },
      "source": [
        "\"\"\"\n",
        "    PRECISION RECALL AND F1 SCORE\n",
        "      > Function is defined to calculate the precision, recall and F1 scores of the test and\n",
        "         cross validation data\n",
        "      > Returns the precision, recall and F1 score\n",
        "      > Arguments - Predictions_of_the_final_activation, y(ground_truth)\n",
        "\"\"\"\n",
        " \n",
        "def prec_rec(A,y):\n",
        "  tp = 0\n",
        "  fp = 0\n",
        "  fn = 0\n",
        "  for i in range(0,y.shape[1]):\n",
        "    if ((A[0,i]==1)and(y[0,i]==1)):\n",
        "      tp = tp+1\n",
        "    if ((A[0,i]==1)and(y[0,i]==0)):\n",
        "      fp = fp+1\n",
        "    if (A[0,i]==0)and(y[0,i]==1):\n",
        "      fn = fn+1\n",
        "  prec = tp/(tp+fp)\n",
        "  rec = tp/(tp+fn)\n",
        "  f1 = (2*prec*rec)/(prec+rec)\n",
        "  return prec,rec,f1"
      ],
      "execution_count": 13,
      "outputs": []
    },
    {
      "cell_type": "code",
      "metadata": {
        "id": "QzgIW2DZzJPs",
        "colab_type": "code",
        "colab": {}
      },
      "source": [
        "\"\"\"\n",
        "    PERFORMANCE ON TEST AND CROSS VALIDATION DATA\n",
        "      > This function evaluates the performance of the learning algorithm on test\n",
        "         and cross validation data\n",
        "      > Returns the accuracy, precision, recall and F1 score of test and cross validation\n",
        "         datasets\n",
        "      > Arguments - X,y,trained_parameters,print_values(True/False)\n",
        "\"\"\"\n",
        " \n",
        "def cross_val(X,y,params_tr,print_values):\n",
        "  out_cv,act_cv = forw_prop(X,params_tr,act_fn)\n",
        "  predictions_cv = predict(act_cv[\"A\" + str(len(layer_dims)-1)],0.5)\n",
        "  accu_cv = float(np.mean(predictions_cv==y,axis=1))*100\n",
        "  prec_cv,rec_cv,f1_cv = prec_rec(predictions_cv,y)\n",
        "  if print_values is True:\n",
        "    print(\"CROSS VAL RESULTS: \")\n",
        "    print(\"Cross val accuracy = \" + str(accu_cv))\n",
        "    print(\"Precision: \" + str(prec_cv))\n",
        "    print(\"Recall: \" + str(rec_cv))\n",
        "    print(\"F1 score: \" + str(f1_cv))\n",
        "    print('\\n')\n",
        "    print('\\n')\n",
        "  return accu_cv,prec_cv,rec_cv,f1_cv\n",
        "def test(X,y,params_tr,print_values):\n",
        "  out_te,act_te = forw_prop(X,params_tr,act_fn)\n",
        "  predictions_te = predict(act_te[\"A\" + str(len(layer_dims)-1)],0.5)\n",
        "  accu_te = float(np.mean(predictions_te==y,axis=1))*100\n",
        "  prec_te,rec_te,f1_te = prec_rec(predictions_te,y)\n",
        "  if print_values is True:\n",
        "    print(\"TEST RESULTS: \")\n",
        "    print(\"Testing accuracy = \" + str(accu_te))\n",
        "    print(\"Precision: \" + str(prec_te))\n",
        "    print(\"Recall: \" + str(rec_te))\n",
        "    print(\"F1 score: \" + str(f1_te))\n",
        "    print('\\n')\n",
        "    print('\\n')\n",
        "  return accu_te,prec_te,rec_te,f1_te"
      ],
      "execution_count": 14,
      "outputs": []
    },
    {
      "cell_type": "code",
      "metadata": {
        "id": "RFHen-5-pKrG",
        "colab_type": "code",
        "colab": {
          "base_uri": "https://localhost:8080/",
          "height": 1000
        },
        "outputId": "20d3a7d3-c1b3-4d16-dc9a-d62f11d7fd26"
      },
      "source": [
        "#Training the network\n",
        "\n",
        "mb_size = 32\n",
        "parameters_dat = initialize_parameters(layer_dims,act_fn)\n",
        "costs,costs_cache,parameters = fit(X_tr,y_tr,m_tr,100,0.005,False,\"SGD\",parameters_dat,act_fn,print_cost=True)"
      ],
      "execution_count": 37,
      "outputs": [
        {
          "output_type": "stream",
          "text": [
            "Cost after iteration 1 is 0.6173057026131018 -------- Training accuracy = 49.0\n",
            "Cost after iteration 2 is 0.6358615547581109 -------- Training accuracy = 49.55555555555556\n",
            "Cost after iteration 3 is 0.6342023808631346 -------- Training accuracy = 50.55555555555556\n",
            "Cost after iteration 4 is 0.6279617989105295 -------- Training accuracy = 51.0\n",
            "Cost after iteration 5 is 0.6195425215574484 -------- Training accuracy = 51.44444444444445\n",
            "Cost after iteration 6 is 0.6089922861597622 -------- Training accuracy = 52.33333333333333\n",
            "Cost after iteration 7 is 0.5959120396649066 -------- Training accuracy = 54.11111111111111\n",
            "Cost after iteration 8 is 0.5798625435533001 -------- Training accuracy = 54.55555555555556\n",
            "Cost after iteration 9 is 0.5606129798703224 -------- Training accuracy = 55.55555555555556\n",
            "Cost after iteration 10 is 0.5383947102073386 -------- Training accuracy = 56.00000000000001\n",
            "Cost after iteration 11 is 0.513983680534465 -------- Training accuracy = 55.77777777777778\n",
            "Cost after iteration 12 is 0.48851803810755173 -------- Training accuracy = 56.00000000000001\n",
            "Cost after iteration 13 is 0.4632171676254392 -------- Training accuracy = 56.55555555555556\n",
            "Cost after iteration 14 is 0.4391699738553699 -------- Training accuracy = 56.55555555555556\n",
            "Cost after iteration 15 is 0.4172458604251066 -------- Training accuracy = 57.55555555555556\n",
            "Cost after iteration 16 is 0.3981397673089097 -------- Training accuracy = 57.44444444444444\n",
            "Cost after iteration 17 is 0.3825178422735727 -------- Training accuracy = 56.99999999999999\n",
            "Cost after iteration 18 is 0.371185484303027 -------- Training accuracy = 57.333333333333336\n",
            "Cost after iteration 19 is 0.36519424780334186 -------- Training accuracy = 57.666666666666664\n",
            "Cost after iteration 20 is 0.36584283313828586 -------- Training accuracy = 58.22222222222222\n",
            "Cost after iteration 21 is 0.37449760615409516 -------- Training accuracy = 58.44444444444444\n",
            "Cost after iteration 22 is 0.3919415984072884 -------- Training accuracy = 59.0\n",
            "Cost after iteration 23 is 0.4171882542145533 -------- Training accuracy = 59.66666666666667\n",
            "Cost after iteration 24 is 0.44658635092125676 -------- Training accuracy = 61.0\n",
            "Cost after iteration 25 is 0.47392566974501804 -------- Training accuracy = 61.66666666666667\n",
            "Cost after iteration 26 is 0.4902261292071944 -------- Training accuracy = 62.77777777777778\n",
            "Cost after iteration 27 is 0.4783789905203496 -------- Training accuracy = 64.55555555555556\n",
            "Cost after iteration 28 is 0.40245499998587136 -------- Training accuracy = 67.11111111111111\n",
            "Cost after iteration 29 is 0.2438524528521496 -------- Training accuracy = 71.22222222222221\n",
            "Cost after iteration 30 is 0.13670173478525527 -------- Training accuracy = 80.22222222222221\n",
            "Cost after iteration 31 is 0.09844720365185049 -------- Training accuracy = 84.0\n",
            "Cost after iteration 32 is 0.08611876847277986 -------- Training accuracy = 85.0\n",
            "Cost after iteration 33 is 0.07073027045127879 -------- Training accuracy = 85.44444444444444\n",
            "Cost after iteration 34 is 0.05313253997974623 -------- Training accuracy = 86.66666666666667\n",
            "Cost after iteration 35 is 0.05323064440326222 -------- Training accuracy = 88.77777777777777\n",
            "Cost after iteration 36 is 0.05040889840502611 -------- Training accuracy = 89.22222222222223\n",
            "Cost after iteration 37 is 0.0492075845794348 -------- Training accuracy = 89.11111111111111\n",
            "Cost after iteration 38 is 0.04796291851164138 -------- Training accuracy = 89.77777777777777\n",
            "Cost after iteration 39 is 0.043675825869159406 -------- Training accuracy = 90.77777777777779\n",
            "Cost after iteration 40 is 0.05063361836036653 -------- Training accuracy = 90.66666666666666\n",
            "Cost after iteration 41 is 0.045169570226504065 -------- Training accuracy = 90.11111111111111\n",
            "Cost after iteration 42 is 0.050203823377242544 -------- Training accuracy = 91.66666666666666\n",
            "Cost after iteration 43 is 0.045214289297985225 -------- Training accuracy = 91.11111111111111\n",
            "Cost after iteration 44 is 0.04774236987780682 -------- Training accuracy = 93.55555555555556\n",
            "Cost after iteration 45 is 0.031678645710892815 -------- Training accuracy = 92.44444444444444\n",
            "Cost after iteration 46 is 0.03320390560755607 -------- Training accuracy = 94.0\n",
            "Cost after iteration 47 is 0.026837963986480327 -------- Training accuracy = 93.22222222222221\n",
            "Cost after iteration 48 is 0.030364772256653468 -------- Training accuracy = 92.88888888888889\n",
            "Cost after iteration 49 is 0.02560439265905696 -------- Training accuracy = 92.77777777777779\n",
            "Cost after iteration 50 is 0.025679169087647478 -------- Training accuracy = 93.0\n",
            "Cost after iteration 51 is 0.023847221636345985 -------- Training accuracy = 94.22222222222221\n",
            "Cost after iteration 52 is 0.020452312099758896 -------- Training accuracy = 93.33333333333333\n",
            "Cost after iteration 53 is 0.01862294721323002 -------- Training accuracy = 93.33333333333333\n",
            "Cost after iteration 54 is 0.022631790536014416 -------- Training accuracy = 93.66666666666667\n",
            "Cost after iteration 55 is 0.017970517892666116 -------- Training accuracy = 93.77777777777779\n",
            "Cost after iteration 56 is 0.01927314671179255 -------- Training accuracy = 94.11111111111111\n",
            "Cost after iteration 57 is 0.01731409586261017 -------- Training accuracy = 94.22222222222221\n",
            "Cost after iteration 58 is 0.020898232459778263 -------- Training accuracy = 94.55555555555556\n",
            "Cost after iteration 59 is 0.016604957733936648 -------- Training accuracy = 94.55555555555556\n",
            "Cost after iteration 60 is 0.017166318591365016 -------- Training accuracy = 94.11111111111111\n",
            "Cost after iteration 61 is 0.020351964927029044 -------- Training accuracy = 94.66666666666667\n",
            "Cost after iteration 62 is 0.019852210216392323 -------- Training accuracy = 94.11111111111111\n",
            "Cost after iteration 63 is 0.014243117976722834 -------- Training accuracy = 94.44444444444444\n",
            "Cost after iteration 64 is 0.014158925371206504 -------- Training accuracy = 94.55555555555556\n",
            "Cost after iteration 65 is 0.010396006916304646 -------- Training accuracy = 94.22222222222221\n",
            "Cost after iteration 66 is 0.01331233413995976 -------- Training accuracy = 94.33333333333334\n",
            "Cost after iteration 67 is 0.008850397077360286 -------- Training accuracy = 94.66666666666667\n",
            "Cost after iteration 68 is 0.008505619760776968 -------- Training accuracy = 94.77777777777779\n",
            "Cost after iteration 69 is 0.008407785768240196 -------- Training accuracy = 95.55555555555556\n",
            "Cost after iteration 70 is 0.00872973521539796 -------- Training accuracy = 95.44444444444444\n",
            "Cost after iteration 71 is 0.011110487290778142 -------- Training accuracy = 94.88888888888889\n",
            "Cost after iteration 72 is 0.006825884074488589 -------- Training accuracy = 94.77777777777779\n",
            "Cost after iteration 73 is 0.008482839360791885 -------- Training accuracy = 95.44444444444444\n",
            "Cost after iteration 74 is 0.009032518561730766 -------- Training accuracy = 94.88888888888889\n",
            "Cost after iteration 75 is 0.008276830705786827 -------- Training accuracy = 95.88888888888889\n",
            "Cost after iteration 76 is 0.01063392976423842 -------- Training accuracy = 95.11111111111111\n",
            "Cost after iteration 77 is 0.013744713101193812 -------- Training accuracy = 95.44444444444444\n",
            "Cost after iteration 78 is 0.012932045816491008 -------- Training accuracy = 95.0\n",
            "Cost after iteration 79 is 0.0105332805617533 -------- Training accuracy = 95.44444444444444\n",
            "Cost after iteration 80 is 0.00835243668327204 -------- Training accuracy = 95.66666666666667\n",
            "Cost after iteration 81 is 0.006971864292586016 -------- Training accuracy = 95.77777777777777\n",
            "Cost after iteration 82 is 0.005082088697748528 -------- Training accuracy = 95.33333333333334\n",
            "Cost after iteration 83 is 0.006637638184456797 -------- Training accuracy = 96.33333333333334\n",
            "Cost after iteration 84 is 0.005936337064692155 -------- Training accuracy = 95.22222222222221\n",
            "Cost after iteration 85 is 0.0042128718858009916 -------- Training accuracy = 95.55555555555556\n",
            "Cost after iteration 86 is 0.007354206775942741 -------- Training accuracy = 95.77777777777777\n",
            "Cost after iteration 87 is 0.00671108315758412 -------- Training accuracy = 95.44444444444444\n",
            "Cost after iteration 88 is 0.004915343446564722 -------- Training accuracy = 95.88888888888889\n",
            "Cost after iteration 89 is 0.005209374636898204 -------- Training accuracy = 96.33333333333334\n",
            "Cost after iteration 90 is 0.015516320733099715 -------- Training accuracy = 95.11111111111111\n",
            "Cost after iteration 91 is 0.007774560244328743 -------- Training accuracy = 95.66666666666667\n",
            "Cost after iteration 92 is 0.007774853471972904 -------- Training accuracy = 95.77777777777777\n",
            "Cost after iteration 93 is 0.009043154440160248 -------- Training accuracy = 95.44444444444444\n",
            "Cost after iteration 94 is 0.010057758803198456 -------- Training accuracy = 95.22222222222221\n",
            "Cost after iteration 95 is 0.005072376846612985 -------- Training accuracy = 95.33333333333334\n",
            "Cost after iteration 96 is 0.005598373638069867 -------- Training accuracy = 95.55555555555556\n",
            "Cost after iteration 97 is 0.004624844284015941 -------- Training accuracy = 95.88888888888889\n",
            "Cost after iteration 98 is 0.006104921416045962 -------- Training accuracy = 95.22222222222221\n",
            "Cost after iteration 99 is 0.006037070711181778 -------- Training accuracy = 96.0\n",
            "Cost after iteration 100 is 0.004019232754356461 -------- Training accuracy = 95.88888888888889\n"
          ],
          "name": "stdout"
        }
      ]
    },
    {
      "cell_type": "code",
      "metadata": {
        "id": "DGMrrC5urNrh",
        "colab_type": "code",
        "colab": {
          "base_uri": "https://localhost:8080/",
          "height": 187
        },
        "outputId": "384408da-3469-44a1-a91c-1b52dd165a43"
      },
      "source": [
        "#cross_val(X_cv,y_cv,parameters,print_values=True)\n",
        "test(X_te,y_te,parameters,print_values=True)"
      ],
      "execution_count": 38,
      "outputs": [
        {
          "output_type": "stream",
          "text": [
            "TEST RESULTS: \n",
            "Testing accuracy = 98.0\n",
            "Precision: 1.0\n",
            "Recall: 0.9565217391304348\n",
            "F1 score: 0.9777777777777777\n",
            "\n",
            "\n",
            "\n",
            "\n"
          ],
          "name": "stdout"
        },
        {
          "output_type": "execute_result",
          "data": {
            "text/plain": [
              "(98.0, 1.0, 0.9565217391304348, 0.9777777777777777)"
            ]
          },
          "metadata": {
            "tags": []
          },
          "execution_count": 38
        }
      ]
    },
    {
      "cell_type": "code",
      "metadata": {
        "id": "bFrS1HpMpjdQ",
        "colab_type": "code",
        "colab": {
          "base_uri": "https://localhost:8080/",
          "height": 312
        },
        "outputId": "bf3aef9d-a2ac-487a-a487-8cb7240106c6"
      },
      "source": [
        "#Plotting Cost vs Number of Iterations\n",
        "\n",
        "import matplotlib.pyplot as plt\n",
        "itera = np.arange(1,len(costs)+1,1)\n",
        "plt.xlabel('Number of iterations')\n",
        "plt.ylabel('Cost')\n",
        "plt.title('Cost Function variation')\n",
        "plt.plot(itera,costs)"
      ],
      "execution_count": 39,
      "outputs": [
        {
          "output_type": "execute_result",
          "data": {
            "text/plain": [
              "[<matplotlib.lines.Line2D at 0x7fd9bacb7e80>]"
            ]
          },
          "metadata": {
            "tags": []
          },
          "execution_count": 39
        },
        {
          "output_type": "display_data",
          "data": {
            "image/png": "[encoded data removed]",
            "text/plain": [
              "<Figure size 432x288 with 1 Axes>"
            ]
          },
          "metadata": {
            "tags": [],
            "needs_background": "light"
          }
        }
      ]
    },
    {
      "cell_type": "code",
      "metadata": {
        "id": "l2jSaEHdpnxN",
        "colab_type": "code",
        "colab": {}
      },
      "source": [
        "#Decision Boundary Visualisation helper functions\n",
        "#Remember to set the path to which the graphs should be stored in \"OUTPUT_DIR\"\n",
        "\n",
        "sns.set_style(\"whitegrid\")\n",
        "GRID_X_START = -1.5\n",
        "GRID_X_END = 2.5\n",
        "GRID_Y_START = -1.0\n",
        "GRID_Y_END = 2\n",
        "OUTPUT_DIR = \"/content/drive/My Drive/Colab Notebooks/nn_visuals/SGD_circ_100_0.005_F\"\n",
        "grid = np.mgrid[GRID_X_START:GRID_X_END:100j,GRID_X_START:GRID_Y_END:100j]\n",
        "grid_2d = grid.reshape(2,-1)\n",
        "XX, YY = grid\n",
        "def make_plot(X, y, plot_name, file_name=None, XX=None, YY=None, preds=None, dark=False):\n",
        "    if (dark):\n",
        "        plt.style.use('dark_background')\n",
        "    else:\n",
        "        sns.set_style(\"whitegrid\")\n",
        "    plt.figure(figsize=(16,12))\n",
        "    axes = plt.gca()\n",
        "    axes.set(xlabel=\"$X_1$\", ylabel=\"$X_2$\")\n",
        "    plt.title(plot_name, fontsize=30)\n",
        "    plt.subplots_adjust(left=0.20)\n",
        "    plt.subplots_adjust(right=0.80)\n",
        "    if(XX is not None and YY is not None and preds is not None):\n",
        "        plt.contourf(XX, YY, preds.reshape(XX.shape), 25, alpha = 1, cmap=cm.Spectral)\n",
        "        plt.contour(XX, YY, preds.reshape(XX.shape), levels=[.5], cmap=\"Greys\", vmin=0, vmax=.6)\n",
        "    plt.scatter(X[:, 0], X[:, 1], c=y.ravel(), s=40, cmap=plt.cm.Spectral, edgecolors='black')\n",
        "    if(file_name):\n",
        "        plt.savefig(file_name)\n",
        "        plt.close()\n",
        "import os\n",
        "def callback_numpy_plot(index, init_params):\n",
        "    plot_title = \"Iteration {:05}\".format(index)\n",
        "    file_name = \"numpy_model_{:05}.png\".format(index//1)\n",
        "    file_path = os.path.join(OUTPUT_DIR, file_name)\n",
        "    out,act = forw_prop(np.transpose(grid_2d),init_params,act_fn)\n",
        "    prediction_probs = act[\"A\" + str(len(layer_dims)-1)]\n",
        "    prediction_probs = prediction_probs.reshape(prediction_probs.shape[1], 1)\n",
        "    make_plot(X_te, y_te, plot_title, file_name=file_path, XX=XX, YY=YY, preds=prediction_probs, dark=True)"
      ],
      "execution_count": 40,
      "outputs": []
    },
    {
      "cell_type": "code",
      "metadata": {
        "id": "GaBatc_6p62v",
        "colab_type": "code",
        "colab": {}
      },
      "source": [
        "#Decision Boundary Visualisation\n",
        "\n",
        "layer_dims_vis = layer_dims\n",
        "layer_dims_vis[0] = 2\n",
        "parameters_dat = initialize_parameters(layer_dims_vis,act_fn)\n",
        "_,_,params_values = fit(X_tr,y_tr,m_tr,100,0.005,False,\"SGD\",parameters_dat,act_fn,print_cost=False,callback=callback_numpy_plot)"
      ],
      "execution_count": 41,
      "outputs": []
    },
    {
      "cell_type": "code",
      "metadata": {
        "id": "xZW1bV68p_Gx",
        "colab_type": "code",
        "colab": {
          "base_uri": "https://localhost:8080/",
          "height": 747
        },
        "outputId": "5bdabdc2-764c-4387-9722-227cb0fc8cf0"
      },
      "source": [
        "#Get the final Decision Boundary at the end of training evaluated on the test set \n",
        "\n",
        "out,act = forw_prop(np.transpose(grid_2d),params_values,act_fn)\n",
        "prediction_probs_np = act[\"A\" + str(len(layer_dims)-1)]\n",
        "prediction_probs_np = prediction_probs_np.reshape(prediction_probs_np.shape[1], 1)\n",
        "make_plot(X_te, y_te, \"Final Iteration\", file_name=None, XX=XX, YY=YY, preds=prediction_probs_np, dark=True)"
      ],
      "execution_count": 42,
      "outputs": [
        {
          "output_type": "display_data",
          "data": {
            "image/png": "[encoded data removed]",
            "text/plain": [
              "<Figure size 1152x864 with 1 Axes>"
            ]
          },
          "metadata": {
            "tags": []
          }
        }
      ]
    },
    {
      "cell_type": "code",
      "metadata": {
        "id": "xQyPTkd8VuWE",
        "colab_type": "code",
        "colab": {}
      },
      "source": [
        ""
      ],
      "execution_count": null,
      "outputs": []
    }
  ]
}