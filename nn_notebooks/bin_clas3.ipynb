{
  "nbformat": 4,
  "nbformat_minor": 0,
  "metadata": {
    "colab": {
      "name": "bin_clas.ipynb",
      "provenance": [],
      "collapsed_sections": [],
      "toc_visible": true
    },
    "kernelspec": {
      "name": "python3",
      "display_name": "Python 3"
    }
  },
  "cells": [
    {
      "cell_type": "code",
      "metadata": {
        "id": "tWIr65IilAMP",
        "colab_type": "code",
        "colab": {
          "base_uri": "https://localhost:8080/",
          "height": 71
        },
        "outputId": "50b67256-3d39-4306-9bf6-e07fa1a70817"
      },
      "source": [
        "#Importing libraries\n",
        "\n",
        "import os\n",
        "import numpy as np\n",
        "from sklearn.datasets import make_circles\n",
        "from sklearn.model_selection import train_test_split\n",
        "import seaborn as sns\n",
        "import matplotlib.pyplot as plt\n",
        "from matplotlib import cm\n",
        "from mpl_toolkits.mplot3d import Axes3D\n",
        "from matplotlib import pyplot\n",
        "from pandas import DataFrame"
      ],
      "execution_count": 2,
      "outputs": [
        {
          "output_type": "stream",
          "text": [
            "/usr/local/lib/python3.6/dist-packages/statsmodels/tools/_testing.py:19: FutureWarning: pandas.util.testing is deprecated. Use the functions in the public API at pandas.testing instead.\n",
            "  import pandas.util.testing as tm\n"
          ],
          "name": "stderr"
        }
      ]
    },
    {
      "cell_type": "code",
      "metadata": {
        "id": "_R7vIDz5moGo",
        "colab_type": "code",
        "colab": {
          "base_uri": "https://localhost:8080/",
          "height": 279
        },
        "outputId": "8b2efb5e-ba44-4447-b8f8-1a5449a8b3c2"
      },
      "source": [
        "\"\"\"\n",
        "    DATA PREPARATION\n",
        "      > Loading the dataset and splitting it into train, cross validation and test sets\n",
        "      > The inputs are to be in the format of X.shape = (number_of_examples, number_of features)\n",
        "      > The outputs are to be in the format of y.shape = (number_of_output_units, number_of_examples)\n",
        "\"\"\"\n",
        "\n",
        "N_SAMPLES = 1000\n",
        "TEST_SIZE = 0.1\n",
        "X, y = make_circles(n_samples = N_SAMPLES, noise=0.05, random_state=100)\n",
        "X_tr, X_te, y_tr_t, y_te_t = train_test_split(X, y, test_size=TEST_SIZE, random_state=42)\n",
        "y_tr_t = y_tr_t.reshape(y_tr_t.shape[0],1)\n",
        "y_te_t = y_te_t.reshape(y_te_t.shape[0],1)\n",
        "m_tr = y_tr_t.shape[0]\n",
        "m_te = y_te_t.shape[0]\n",
        "y_tr = y_tr_t.T\n",
        "y_te = y_te_t.T\n",
        "\n",
        "\n",
        "#Plotting the data\n",
        "\n",
        "df = DataFrame(dict(x=X[:,0], y=X[:,1], label=y))\n",
        "colors = {0:'red', 1:'blue'}\n",
        "fig, ax = pyplot.subplots()\n",
        "grouped = df.groupby('label')\n",
        "for key, group in grouped:\n",
        "    group.plot(ax=ax, kind='scatter', x='x', y='y', label=key, color=colors[key])\n",
        "pyplot.show()"
      ],
      "execution_count": 3,
      "outputs": [
        {
          "output_type": "display_data",
          "data": {
            "image/png": "[encoded data removed]",
            "text/plain": [
              "<Figure size 432x288 with 1 Axes>"
            ]
          },
          "metadata": {
            "tags": [],
            "needs_background": "light"
          }
        }
      ]
    },
    {
      "cell_type": "code",
      "metadata": {
        "id": "i1V3Z1HpokA4",
        "colab_type": "code",
        "colab": {}
      },
      "source": [
        "\"\"\"\n",
        "    ACTIVATION FUNCTIONS\n",
        "      > Defining the activation functions for the neural network. Note here that \n",
        "         the \"tanh\" activation function is implemented as \"tang(x)\"\n",
        "\"\"\"\n",
        "\n",
        "def sigmoid(x):\n",
        "  return (1/(1+np.exp(-x)))\n",
        "def relu(x):\n",
        "    return np.maximum(0,x)\n",
        "def tang(x):\n",
        "  return np.tanh(x)"
      ],
      "execution_count": 4,
      "outputs": []
    },
    {
      "cell_type": "code",
      "metadata": {
        "id": "7pR71Fydolfm",
        "colab_type": "code",
        "colab": {}
      },
      "source": [
        "\"\"\"\n",
        "    DEFINING UNITS AND ACTIVATION FUNCTIONS\n",
        "      > Here the number of units in each layer and as a result the number of layers\n",
        "         in our neural network is defined in a Python list \"layer_dims\"\n",
        "      > Activation functions for each of the layers is also defined in the Python\n",
        "         list \"act_fn\"\n",
        "      > Note here that the length of act_fn is one less than that of the length of\n",
        "         layer_dims\n",
        "\"\"\"\n",
        "\n",
        "layer_dims = [X_tr.shape[1],4,9,6,6,5,1]\n",
        "act_fn = [\"relu\",\"tang\",\"tang\",\"tang\",\"tang\",\"sigmoid\"]"
      ],
      "execution_count": 5,
      "outputs": []
    },
    {
      "cell_type": "code",
      "metadata": {
        "id": "LqvuIXEDo2Ro",
        "colab_type": "code",
        "colab": {}
      },
      "source": [
        "\"\"\"\n",
        "    INITIALISING THE PARAMETERS\n",
        "      > The parameters of the neural network are 1.Weights and 2.Bias and these\n",
        "         parameters are tweaked while training the network. \n",
        "      > Weights and bias for each of the layers(excluding the input layer) are\n",
        "         initialised randomly and special weight initialisation techniques are\n",
        "         used depending on the activation function of the layer.\n",
        "      > Weights and bias are stored in the Python dictionary \"parameters\" and the\n",
        "         weights of the ith layer are stored by keyword Wi and the bias in bi\n",
        "      > Wi.shape = (number_of_units_in_(i-1)th_layer, number_of_units_in_(i)th_layer)\n",
        "      > bi.shape = (number_of_units_in_(i)th_layer,1)\n",
        "      > Arguments - layer_dims,act_fn\n",
        "\"\"\"\n",
        "\n",
        "def initialize_parameters(layer_dims,activation_fn):\n",
        "  parameters = {}\n",
        "  relu_init = 2\n",
        "  tang_init = 1\n",
        "  for i in range(1,len(layer_dims)):\n",
        "    if activation_fn[i-1] is \"relu\":\n",
        "      initi = relu_init\n",
        "    if activation_fn[i-1] is \"tang\":\n",
        "      initi = tang_init\n",
        "    parameters[\"W\"+str(i)] = np.random.randn(layer_dims[i],layer_dims[i-1])*np.sqrt(initi/layer_dims[i-1])\n",
        "    parameters[\"b\"+str(i)] = np.random.randn(layer_dims[i],1)*0.01\n",
        "  return parameters"
      ],
      "execution_count": 6,
      "outputs": []
    },
    {
      "cell_type": "code",
      "metadata": {
        "id": "2szTq5wmo4OO",
        "colab_type": "code",
        "colab": {}
      },
      "source": [
        "\"\"\"\n",
        "    FORWARD PROPAGATION\n",
        "      > The forward propagation makes a forward pass through the neural net. The\n",
        "         outputs of all the layers are computed and then the activation\n",
        "         for that particular layer is calculated.\n",
        "      > The python dictionaries \"outputs\" are used to store the output of the dot\n",
        "         product between the weights and the inputs and \"activations\" are used to\n",
        "         store the activations of the outputs of that layer\n",
        "      > The \"outputs\" contain keywords of the format Zi for the outputs of the ith\n",
        "         layer and the \"activations\" contain keywords of the format Ai for the activations\n",
        "         of the ith layer based on its activations as specified in \"acts_fn\"\n",
        "      > The input data is also stored in A0 and is handy for back propagation\n",
        "      > Arguments - Input_Data, parameters, activation_fn\n",
        "\"\"\"\n",
        "\n",
        "def forw_prop(X,parameters,activation_fn):\n",
        "  outputs = {}\n",
        "  activations = {}\n",
        "  A_prev = X.T\n",
        "  for i in range(1,len(layer_dims)):\n",
        "    if activation_fn[i-1] is \"relu\":\n",
        "      activ = relu\n",
        "    if activation_fn[i-1] is \"tang\":\n",
        "      activ = tang\n",
        "    if activation_fn[i-1] is \"sigmoid\":\n",
        "      activ = sigmoid\n",
        "    outputs[\"Z\" + str(i)] = np.dot(parameters[\"W\" + str(i)],A_prev) + parameters[\"b\"+str(i)]\n",
        "    activations[\"A\" + str(i)] = activ(outputs[\"Z\" + str(i)])\n",
        "    A_prev = activations[\"A\" + str(i)]\n",
        "  activations[\"A0\"] = X.T\n",
        "  return outputs,activations"
      ],
      "execution_count": 7,
      "outputs": []
    },
    {
      "cell_type": "code",
      "metadata": {
        "id": "mgTZNoBko6H7",
        "colab_type": "code",
        "colab": {}
      },
      "source": [
        "\"\"\"\n",
        "    COST FUNCTION\n",
        "      > Cost function is calculated using the activations of the final layer of\n",
        "         the network and the ground truth y\n",
        "      > Arguments - activation, y, number_of_examples\n",
        "\"\"\"\n",
        "\n",
        "def cost_func(A,y,m_ex):\n",
        "  cost = ((-1/m_ex)*(np.sum(np.sum((y*np.log(A)) + ((1-y)*np.log(1-A))))))\n",
        "  return cost"
      ],
      "execution_count": 8,
      "outputs": []
    },
    {
      "cell_type": "code",
      "metadata": {
        "id": "TMhW4VMNo-Lf",
        "colab_type": "code",
        "colab": {}
      },
      "source": [
        "\"\"\"\n",
        "    GRADIENTS OF ACTIVATION FUNCTIONS\n",
        "      > Here the gradients of the activation functions are defined.\n",
        "      > This calculates the derivative of the activation of the ith layer to the\n",
        "         outputs of the ith layer\n",
        "      > Arguments - outputs Z\n",
        "\"\"\"\n",
        "\n",
        "def sigmoid_backward(z):\n",
        "  grad_back = np.exp(-z)/np.square(1+np.exp(-z))\n",
        "  return grad_back\n",
        "def relu_backward(x):\n",
        "  x[x<=0] = 0\n",
        "  x[x>0] = 1\n",
        "  return x\n",
        "def tang_backward(x):\n",
        "  return (1 - np.square(np.tanh(x)))"
      ],
      "execution_count": 9,
      "outputs": []
    },
    {
      "cell_type": "code",
      "metadata": {
        "id": "c5plu3-apArP",
        "colab_type": "code",
        "colab": {}
      },
      "source": [
        "\"\"\"\n",
        "    PREDICTIONS\n",
        "      > The predictions for the outputs of the network are calculated given a\n",
        "         threshold value for predicting the class of the input data according to\n",
        "         the parameters learned by the network.\n",
        "      > Arguments - A(Activations),threshold_for_classification\n",
        "\"\"\"\n",
        "\n",
        "def predict(A,threshold):\n",
        "  predictions = np.zeros((A.shape))\n",
        "  for i in range(0,A.shape[0]):\n",
        "    for j in range(0,A.shape[1]):\n",
        "      if A[i,j]>threshold:\n",
        "        predictions[i,j]=1\n",
        "      else:\n",
        "        predictions[i,j]=0\n",
        "  return predictions"
      ],
      "execution_count": 10,
      "outputs": []
    },
    {
      "cell_type": "code",
      "metadata": {
        "id": "wSfxmf6TpFGd",
        "colab_type": "code",
        "colab": {}
      },
      "source": [
        "\"\"\"\n",
        "    FIT\n",
        "      > This function is used to train the network on training data and the weights\n",
        "         are updated by backpropagation through Optimization functions (Gradient descent,RMSprop,Adam)\n",
        "      > Returns \"costs\" a Python list consisting of all the costs through the iterations\n",
        "         and the updated \"parameters\" dictionary\n",
        "      > Returns the \"master_cache\" which contains the values of outputs, activations,\n",
        "         parameters throughout the training period of the format \"master_cache[\"Z\" + str(j) + str(_) + str(i)]\n",
        "         returns the outputs of the jth layer in the ith iteration of training\"\n",
        "      > Arguments - X(train),Y(train),number_of_training_examples,number_of_iterations,\n",
        "         learning_rate,parameters,activation_fn,print_cost(True/False),callback\n",
        "\"\"\"\n",
        "\n",
        "def fit(X,Y,m_ex,num_iterations,alpha,parameters,activation_fn,print_cost,callback=None):\n",
        "  costs = []\n",
        "  #master_cache = {}\n",
        "  p = 0\n",
        "  for i in range(1,num_iterations+1):\n",
        "    grads = {}\n",
        "    outputs,activations = forw_prop(X,parameters,activation_fn)\n",
        "    #for o in range(1,len(layer_dims)):\n",
        "      #master_cache[\"Z\" + str(o) + str(_) + str(i)] = outputs[\"Z\" + str(o)]\n",
        "      #master_cache[\"A\" + str(o) + str(_) + str(i)] = activations[\"A\" + str(o)]\n",
        "    cost = cost_func(activations[\"A\" + str(len(layer_dims)-1)],Y,m_ex)\n",
        "    costs.append(cost)\n",
        "    predictions = predict(activations[\"A\" + str(len(layer_dims)-1)],0.5)\n",
        "    if activation_fn[len(layer_dims)-2] is \"relu\":\n",
        "      backward = relu_backward\n",
        "    if activation_fn[len(layer_dims)-2] is \"tang\":\n",
        "      backward = tang_backward\n",
        "    if activation_fn[len(layer_dims)-2] is \"sigmoid\":\n",
        "      backward = sigmoid_backward\n",
        "    grads[\"dA\" + str(len(layer_dims)-1)] = (1/m_ex)*(((1-Y)/(1-activations[\"A\" + str(len(layer_dims)-1)])) - (Y/activations[\"A\" + str(len(layer_dims)-1)]))\n",
        "    grads[\"dZ\" + str(len(layer_dims)-1)] = grads[\"dA\" + str(len(layer_dims)-1)]*backward(outputs[\"Z\" + str(len(layer_dims)-1)])\n",
        "    grads[\"dW\" + str(len(layer_dims)-1)] = np.dot(grads[\"dZ\" + str(len(layer_dims)-1)],activations[\"A\" + str(len(layer_dims)-2)].T)\n",
        "    grads[\"db\" + str(len(layer_dims)-1)] = np.sum(grads[\"dZ\" + str(len(layer_dims)-1)],axis=1,keepdims=True)\n",
        "    #master_cache[\"dA\" + str(len(layer_dims)-1) + str(_) + str(i)] = grads[\"dA\" + str(len(layer_dims)-1)]\n",
        "    #master_cache[\"dZ\" + str(len(layer_dims)-1) + str(_) + str(i)] = grads[\"dZ\" + str(len(layer_dims)-1)]\n",
        "    #master_cache[\"dW\" + str(len(layer_dims)-1) + str(_) + str(i)] = grads[\"dW\" + str(len(layer_dims)-1)]\n",
        "    #master_cache[\"db\" + str(len(layer_dims)-1) + str(_) + str(i)] = grads[\"db\" + str(len(layer_dims)-1)]\n",
        "    for j in reversed(range(1,len(layer_dims)-1)):\n",
        "      if activation_fn[j-1] is \"relu\":\n",
        "        backward = relu_backward\n",
        "      if activation_fn[j-1] is \"tang\":\n",
        "        backward = tang_backward\n",
        "      if activation_fn[j-1] is \"sigmoid\":\n",
        "        backward = sigmoid_backward\n",
        "      grads[\"dA\" + str(j)] = np.dot(parameters[\"W\" + str(j+1)].T,grads[\"dZ\" + str(j+1)])\n",
        "      grads[\"dZ\" + str(j)] = grads[\"dA\" + str(j)]*backward(outputs[\"Z\" + str(j)])\n",
        "      grads[\"dW\" + str(j)] = np.dot(grads[\"dZ\" + str(j)],activations[\"A\" + str(j-1)].T)\n",
        "      grads[\"db\" + str(j)] = np.sum(grads[\"dZ\" + str(j)],axis=1,keepdims=True)\n",
        "      #master_cache[\"dA\" + str(j) + str(_) + str(i)] = grads[\"dA\" + str(j)]\n",
        "      #master_cache[\"dZ\" + str(j) + str(_) + str(i)] = grads[\"dZ\" + str(j)]\n",
        "      #master_cache[\"dW\" + str(j) + str(_) + str(i)] = grads[\"dW\" + str(j)]\n",
        "      #master_cache[\"db\" + str(j) + str(_) + str(i)] = grads[\"db\" + str(j)]\n",
        "    for k in range(1,len(layer_dims)):\n",
        "      parameters[\"W\" + str(k)] -= (alpha*(grads[\"dW\" + str(k)]))\n",
        "      parameters[\"b\" + str(k)] -= (alpha*(grads[\"db\" + str(k)]))\n",
        "      #master_cache[\"W\" + str(k) + str(_) + str(i)] = parameters[\"W\" + str(k)]\n",
        "      #master_cache[\"b\" + str(k) + str(_) + str(i)] = parameters[\"b\" + str(k)]\n",
        "    if ((print_cost is True) and (i%100==0)):\n",
        "      print(\"Cost after iteration \" + str(i) + \" is \" + str(costs[p]) + \" -------- \" + \"Training accuracy = \" + str(float(np.mean(predictions==Y,axis=1))*100))\n",
        "    p = p+1\n",
        "    if(i % 50 == 0):\n",
        "      if(callback is not None):\n",
        "                callback(i, parameters)\n",
        "  return costs, parameters#, master_cache"
      ],
      "execution_count": 11,
      "outputs": []
    },
    {
      "cell_type": "code",
      "metadata": {
        "id": "r1DSgF-3pIVs",
        "colab_type": "code",
        "colab": {}
      },
      "source": [
        "\"\"\"\n",
        "    PRECISION RECALL AND F1 SCORE\n",
        "      > Function is defined to calculate the precision, recall and F1 scores of the test and\n",
        "         cross validation data\n",
        "      > Returns the precision, recall and F1 score\n",
        "      > Arguments - Predictions_of_the_final_activation, y(ground_truth)\n",
        "\"\"\"\n",
        "\n",
        "def prec_rec(A,y):\n",
        "  tp = 0\n",
        "  fp = 0\n",
        "  fn = 0\n",
        "  for i in range(0,y.shape[1]):\n",
        "    if ((A[0,i]==1)and(y[0,i]==1)):\n",
        "      tp = tp+1\n",
        "    if ((A[0,i]==1)and(y[0,i]==0)):\n",
        "      fp = fp+1\n",
        "    if (A[0,i]==0)and(y[0,i]==1):\n",
        "      fn = fn+1\n",
        "  prec = tp/(tp+fp)\n",
        "  rec = tp/(tp+fn)\n",
        "  f1 = (2*prec*rec)/(prec+rec)\n",
        "  return prec,rec,f1"
      ],
      "execution_count": 12,
      "outputs": []
    },
    {
      "cell_type": "code",
      "metadata": {
        "id": "QzgIW2DZzJPs",
        "colab_type": "code",
        "colab": {}
      },
      "source": [
        "\"\"\"\n",
        "    PERFORMANCE ON TEST AND CROSS VALIDATION DATA\n",
        "      > This function evaluates the performance of the learning algorithm on test\n",
        "         and cross validation data\n",
        "      > Returns the accuracy, precision, recall and F1 score of test and cross validation\n",
        "         datasets\n",
        "      > Arguments - X,y,trained_parameters,print_values(True/False)\n",
        "\"\"\"\n",
        "\n",
        "def cross_val(X,y,params_tr,print_values):\n",
        "  out_cv,act_cv = forw_prop(X,params_tr,act_fn)\n",
        "  predictions_cv = predict(act_cv[\"A\" + str(len(layer_dims)-1)],0.5)\n",
        "  accu_cv = float(np.mean(predictions_cv==y,axis=1))*100\n",
        "  prec_cv,rec_cv,f1_cv = prec_rec(predictions_cv,y)\n",
        "  if print_values is True:\n",
        "    print(\"CROSS VAL RESULTS: \")\n",
        "    print(\"Cross val accuracy = \" + str(accu_cv))\n",
        "    print(\"Precision: \" + str(prec_cv))\n",
        "    print(\"Recall: \" + str(rec_cv))\n",
        "    print(\"F1 score: \" + str(f1_cv))\n",
        "    print('\\n')\n",
        "    print('\\n')\n",
        "  return accu_cv,prec_cv,rec_cv,f1_cv\n",
        "def test(X,y,params_tr,print_values):\n",
        "  out_te,act_te = forw_prop(X,params_tr,act_fn)\n",
        "  predictions_te = predict(act_te[\"A\" + str(len(layer_dims)-1)],0.5)\n",
        "  accu_te = float(np.mean(predictions_te==y,axis=1))*100\n",
        "  prec_te,rec_te,f1_te = prec_rec(predictions_te,y)\n",
        "  if print_values is True:\n",
        "    print(\"TEST RESULTS: \")\n",
        "    print(\"Testing accuracy = \" + str(accu_te))\n",
        "    print(\"Precision: \" + str(prec_te))\n",
        "    print(\"Recall: \" + str(rec_te))\n",
        "    print(\"F1 score: \" + str(f1_te))\n",
        "    print('\\n')\n",
        "    print('\\n')\n",
        "  return accu_te,prec_te,rec_te,f1_te"
      ],
      "execution_count": 13,
      "outputs": []
    },
    {
      "cell_type": "code",
      "metadata": {
        "id": "RFHen-5-pKrG",
        "colab_type": "code",
        "colab": {
          "base_uri": "https://localhost:8080/",
          "height": 1000
        },
        "outputId": "be23d295-fef9-4848-e422-28a9c3195350"
      },
      "source": [
        "#Training the network\n",
        "\n",
        "parameters_dat = initialize_parameters(layer_dims,act_fn)\n",
        "costs,parameters = fit(X_tr,y_tr,m_tr,10000,0.01,parameters_dat,act_fn,print_cost=True)"
      ],
      "execution_count": 15,
      "outputs": [
        {
          "output_type": "stream",
          "text": [
            "Cost after iteration 100 is 0.6949778332267763 -------- Training accuracy = 50.0\n",
            "Cost after iteration 200 is 0.6945246323768884 -------- Training accuracy = 49.888888888888886\n",
            "Cost after iteration 300 is 0.6941003579389331 -------- Training accuracy = 50.11111111111111\n",
            "Cost after iteration 400 is 0.6936965694911237 -------- Training accuracy = 50.888888888888886\n",
            "Cost after iteration 500 is 0.693306521344073 -------- Training accuracy = 50.33333333333333\n",
            "Cost after iteration 600 is 0.6929245707563946 -------- Training accuracy = 50.44444444444445\n",
            "Cost after iteration 700 is 0.6925457666356784 -------- Training accuracy = 53.11111111111111\n",
            "Cost after iteration 800 is 0.6921654417397592 -------- Training accuracy = 52.77777777777778\n",
            "Cost after iteration 900 is 0.6917792432096052 -------- Training accuracy = 52.77777777777778\n",
            "Cost after iteration 1000 is 0.69138289896845 -------- Training accuracy = 52.77777777777778\n",
            "Cost after iteration 1100 is 0.6909720423672757 -------- Training accuracy = 52.77777777777778\n",
            "Cost after iteration 1200 is 0.6905419686146812 -------- Training accuracy = 52.888888888888886\n",
            "Cost after iteration 1300 is 0.6900878571639866 -------- Training accuracy = 53.0\n",
            "Cost after iteration 1400 is 0.6896037198311561 -------- Training accuracy = 53.44444444444445\n",
            "Cost after iteration 1500 is 0.6890834980995679 -------- Training accuracy = 53.55555555555556\n",
            "Cost after iteration 1600 is 0.6885204981986487 -------- Training accuracy = 54.0\n",
            "Cost after iteration 1700 is 0.6879067400623402 -------- Training accuracy = 54.44444444444444\n",
            "Cost after iteration 1800 is 0.6872327790812027 -------- Training accuracy = 54.77777777777778\n",
            "Cost after iteration 1900 is 0.6864877005957113 -------- Training accuracy = 54.888888888888886\n",
            "Cost after iteration 2000 is 0.6856587609202246 -------- Training accuracy = 55.77777777777778\n",
            "Cost after iteration 2100 is 0.6847296457601962 -------- Training accuracy = 55.888888888888886\n",
            "Cost after iteration 2200 is 0.6836802646089594 -------- Training accuracy = 56.777777777777786\n",
            "Cost after iteration 2300 is 0.6824845794411077 -------- Training accuracy = 57.88888888888889\n",
            "Cost after iteration 2400 is 0.681112620050752 -------- Training accuracy = 59.0\n",
            "Cost after iteration 2500 is 0.6795249636930037 -------- Training accuracy = 59.77777777777777\n",
            "Cost after iteration 2600 is 0.6776755417824213 -------- Training accuracy = 60.66666666666667\n",
            "Cost after iteration 2700 is 0.6755029437816227 -------- Training accuracy = 62.0\n",
            "Cost after iteration 2800 is 0.6729150236122172 -------- Training accuracy = 62.77777777777778\n",
            "Cost after iteration 2900 is 0.6697943309446613 -------- Training accuracy = 63.77777777777778\n",
            "Cost after iteration 3000 is 0.6659710136691932 -------- Training accuracy = 64.66666666666666\n",
            "Cost after iteration 3100 is 0.6612238135292162 -------- Training accuracy = 66.77777777777779\n",
            "Cost after iteration 3200 is 0.6552104676161177 -------- Training accuracy = 68.77777777777779\n",
            "Cost after iteration 3300 is 0.6474114235531425 -------- Training accuracy = 70.33333333333334\n",
            "Cost after iteration 3400 is 0.637074039208397 -------- Training accuracy = 72.77777777777777\n",
            "Cost after iteration 3500 is 0.6230121684225267 -------- Training accuracy = 76.0\n",
            "Cost after iteration 3600 is 0.6033482719179978 -------- Training accuracy = 79.88888888888889\n",
            "Cost after iteration 3700 is 0.5756001005881703 -------- Training accuracy = 83.66666666666667\n",
            "Cost after iteration 3800 is 0.5376389759872466 -------- Training accuracy = 86.44444444444444\n",
            "Cost after iteration 3900 is 0.49021199416155165 -------- Training accuracy = 88.1111111111111\n",
            "Cost after iteration 4000 is 0.43710407997279616 -------- Training accuracy = 89.0\n",
            "Cost after iteration 4100 is 0.3825898444591985 -------- Training accuracy = 90.11111111111111\n",
            "Cost after iteration 4200 is 0.32776896880726275 -------- Training accuracy = 92.0\n",
            "Cost after iteration 4300 is 0.2781242225420062 -------- Training accuracy = 94.33333333333334\n",
            "Cost after iteration 4400 is 0.23790157769146572 -------- Training accuracy = 95.0\n",
            "Cost after iteration 4500 is 0.20694921318933818 -------- Training accuracy = 95.66666666666667\n",
            "Cost after iteration 4600 is 0.18294128301046855 -------- Training accuracy = 95.88888888888889\n",
            "Cost after iteration 4700 is 0.16447378978053417 -------- Training accuracy = 96.55555555555554\n",
            "Cost after iteration 4800 is 0.15088461292161817 -------- Training accuracy = 96.55555555555554\n",
            "Cost after iteration 4900 is 0.13926728601829066 -------- Training accuracy = 96.55555555555554\n",
            "Cost after iteration 5000 is 0.13009008466242672 -------- Training accuracy = 96.55555555555554\n",
            "Cost after iteration 5100 is 0.12231537693361348 -------- Training accuracy = 96.66666666666667\n",
            "Cost after iteration 5200 is 0.11566962375699881 -------- Training accuracy = 96.77777777777777\n",
            "Cost after iteration 5300 is 0.11018952365166107 -------- Training accuracy = 97.0\n",
            "Cost after iteration 5400 is 0.10576979388585965 -------- Training accuracy = 97.0\n",
            "Cost after iteration 5500 is 0.1020674903946696 -------- Training accuracy = 97.22222222222221\n",
            "Cost after iteration 5600 is 0.09896344885997792 -------- Training accuracy = 97.22222222222221\n",
            "Cost after iteration 5700 is 0.0965449118349291 -------- Training accuracy = 97.22222222222221\n",
            "Cost after iteration 5800 is 0.09449644411351033 -------- Training accuracy = 97.22222222222221\n",
            "Cost after iteration 5900 is 0.09265970439860353 -------- Training accuracy = 97.22222222222221\n",
            "Cost after iteration 6000 is 0.0910226186690932 -------- Training accuracy = 97.22222222222221\n",
            "Cost after iteration 6100 is 0.08952998284461368 -------- Training accuracy = 97.22222222222221\n",
            "Cost after iteration 6200 is 0.0881764703867128 -------- Training accuracy = 97.22222222222221\n",
            "Cost after iteration 6300 is 0.08679474123342383 -------- Training accuracy = 97.22222222222221\n",
            "Cost after iteration 6400 is 0.08566035224170497 -------- Training accuracy = 97.22222222222221\n",
            "Cost after iteration 6500 is 0.08466671403082573 -------- Training accuracy = 97.22222222222221\n",
            "Cost after iteration 6600 is 0.0837774179350588 -------- Training accuracy = 97.33333333333334\n",
            "Cost after iteration 6700 is 0.08297228420320903 -------- Training accuracy = 97.33333333333334\n",
            "Cost after iteration 6800 is 0.08223825343379677 -------- Training accuracy = 97.33333333333334\n",
            "Cost after iteration 6900 is 0.08156601716440058 -------- Training accuracy = 97.55555555555556\n",
            "Cost after iteration 7000 is 0.08094621700405459 -------- Training accuracy = 97.55555555555556\n",
            "Cost after iteration 7100 is 0.08037229390472254 -------- Training accuracy = 97.55555555555556\n",
            "Cost after iteration 7200 is 0.07983920922733022 -------- Training accuracy = 97.55555555555556\n",
            "Cost after iteration 7300 is 0.07934118081136919 -------- Training accuracy = 97.55555555555556\n",
            "Cost after iteration 7400 is 0.07887767015882166 -------- Training accuracy = 97.55555555555556\n",
            "Cost after iteration 7500 is 0.07844256513036249 -------- Training accuracy = 97.55555555555556\n",
            "Cost after iteration 7600 is 0.0780346036106665 -------- Training accuracy = 97.44444444444444\n",
            "Cost after iteration 7700 is 0.07765355813257346 -------- Training accuracy = 97.44444444444444\n",
            "Cost after iteration 7800 is 0.07729300908372017 -------- Training accuracy = 97.44444444444444\n",
            "Cost after iteration 7900 is 0.07695644716069075 -------- Training accuracy = 97.44444444444444\n",
            "Cost after iteration 8000 is 0.07663893250725233 -------- Training accuracy = 97.44444444444444\n",
            "Cost after iteration 8100 is 0.07634122422597335 -------- Training accuracy = 97.55555555555556\n",
            "Cost after iteration 8200 is 0.07582547065583134 -------- Training accuracy = 97.66666666666667\n",
            "Cost after iteration 8300 is 0.07513379347276297 -------- Training accuracy = 97.88888888888889\n",
            "Cost after iteration 8400 is 0.07439232366456146 -------- Training accuracy = 97.88888888888889\n",
            "Cost after iteration 8500 is 0.07345791148344584 -------- Training accuracy = 98.0\n",
            "Cost after iteration 8600 is 0.07277585211893925 -------- Training accuracy = 98.0\n",
            "Cost after iteration 8700 is 0.07225247568285532 -------- Training accuracy = 97.88888888888889\n",
            "Cost after iteration 8800 is 0.07182354792416343 -------- Training accuracy = 97.88888888888889\n",
            "Cost after iteration 8900 is 0.07139865480212432 -------- Training accuracy = 97.66666666666667\n",
            "Cost after iteration 9000 is 0.0710431726136244 -------- Training accuracy = 97.66666666666667\n",
            "Cost after iteration 9100 is 0.07075008124395311 -------- Training accuracy = 97.55555555555556\n",
            "Cost after iteration 9200 is 0.07049295283922863 -------- Training accuracy = 97.55555555555556\n",
            "Cost after iteration 9300 is 0.07026355437918458 -------- Training accuracy = 97.55555555555556\n",
            "Cost after iteration 9400 is 0.07005643086624627 -------- Training accuracy = 97.55555555555556\n",
            "Cost after iteration 9500 is 0.06986710227236227 -------- Training accuracy = 97.55555555555556\n",
            "Cost after iteration 9600 is 0.06969328936070697 -------- Training accuracy = 97.55555555555556\n",
            "Cost after iteration 9700 is 0.06953424513583328 -------- Training accuracy = 97.55555555555556\n",
            "Cost after iteration 9800 is 0.06938770970363878 -------- Training accuracy = 97.55555555555556\n",
            "Cost after iteration 9900 is 0.06925184080906381 -------- Training accuracy = 97.55555555555556\n",
            "Cost after iteration 10000 is 0.06912520390146261 -------- Training accuracy = 97.55555555555556\n"
          ],
          "name": "stdout"
        }
      ]
    },
    {
      "cell_type": "code",
      "metadata": {
        "id": "DGMrrC5urNrh",
        "colab_type": "code",
        "colab": {
          "base_uri": "https://localhost:8080/",
          "height": 187
        },
        "outputId": "20a731bd-14e1-4dc9-a1cb-d7582d1d81f2"
      },
      "source": [
        "#cross_val(X_cv,y_cv,parameters,print_values=True)\n",
        "test(X_te,y_te,parameters,print_values=True)"
      ],
      "execution_count": 16,
      "outputs": [
        {
          "output_type": "stream",
          "text": [
            "TEST RESULTS: \n",
            "Testing accuracy = 98.0\n",
            "Precision: 1.0\n",
            "Recall: 0.9565217391304348\n",
            "F1 score: 0.9777777777777777\n",
            "\n",
            "\n",
            "\n",
            "\n"
          ],
          "name": "stdout"
        },
        {
          "output_type": "execute_result",
          "data": {
            "text/plain": [
              "(98.0, 1.0, 0.9565217391304348, 0.9777777777777777)"
            ]
          },
          "metadata": {
            "tags": []
          },
          "execution_count": 16
        }
      ]
    },
    {
      "cell_type": "code",
      "metadata": {
        "id": "bFrS1HpMpjdQ",
        "colab_type": "code",
        "colab": {
          "base_uri": "https://localhost:8080/",
          "height": 312
        },
        "outputId": "97c88418-8ef8-4db7-ef23-b3aa5b58b2b5"
      },
      "source": [
        "#Plotting Cost vs Number of Iterations\n",
        "\n",
        "import matplotlib.pyplot as plt\n",
        "itera = np.arange(1,len(costs)+1,1)\n",
        "plt.xlabel('Number of iterations')\n",
        "plt.ylabel('Cost')\n",
        "plt.title('Cost Function variation')\n",
        "plt.plot(itera,costs)"
      ],
      "execution_count": 17,
      "outputs": [
        {
          "output_type": "execute_result",
          "data": {
            "text/plain": [
              "[<matplotlib.lines.Line2D at 0x7ff0ff8a7da0>]"
            ]
          },
          "metadata": {
            "tags": []
          },
          "execution_count": 17
        },
        {
          "output_type": "display_data",
          "data": {
            "image/png": "[encoded data removed]",
            "text/plain": [
              "<Figure size 432x288 with 1 Axes>"
            ]
          },
          "metadata": {
            "tags": [],
            "needs_background": "light"
          }
        }
      ]
    },
    {
      "cell_type": "code",
      "metadata": {
        "id": "l2jSaEHdpnxN",
        "colab_type": "code",
        "colab": {}
      },
      "source": [
        "#Decision Boundary Visualisation helper functions\n",
        "#Remember to set the path to which the graphs should be stored in \"OUTPUT_DIR\"\n",
        "\n",
        "sns.set_style(\"whitegrid\")\n",
        "GRID_X_START = -1.5\n",
        "GRID_X_END = 2.5\n",
        "GRID_Y_START = -1.0\n",
        "GRID_Y_END = 2\n",
        "OUTPUT_DIR = \"/content/drive/My Drive/Colab Notebooks/funvis_circles\"\n",
        "grid = np.mgrid[GRID_X_START:GRID_X_END:100j,GRID_X_START:GRID_Y_END:100j]\n",
        "grid_2d = grid.reshape(2,-1)\n",
        "XX, YY = grid\n",
        "def make_plot(X, y, plot_name, file_name=None, XX=None, YY=None, preds=None, dark=False):\n",
        "    if (dark):\n",
        "        plt.style.use('dark_background')\n",
        "    else:\n",
        "        sns.set_style(\"whitegrid\")\n",
        "    plt.figure(figsize=(16,12))\n",
        "    axes = plt.gca()\n",
        "    axes.set(xlabel=\"$X_1$\", ylabel=\"$X_2$\")\n",
        "    plt.title(plot_name, fontsize=30)\n",
        "    plt.subplots_adjust(left=0.20)\n",
        "    plt.subplots_adjust(right=0.80)\n",
        "    if(XX is not None and YY is not None and preds is not None):\n",
        "        plt.contourf(XX, YY, preds.reshape(XX.shape), 25, alpha = 1, cmap=cm.Spectral)\n",
        "        plt.contour(XX, YY, preds.reshape(XX.shape), levels=[.5], cmap=\"Greys\", vmin=0, vmax=.6)\n",
        "    plt.scatter(X[:, 0], X[:, 1], c=y.ravel(), s=40, cmap=plt.cm.Spectral, edgecolors='black')\n",
        "    if(file_name):\n",
        "        plt.savefig(file_name)\n",
        "        plt.close()\n",
        "import os\n",
        "def callback_numpy_plot(index, params):\n",
        "    plot_title = \"Iteration {:05}\".format(index)\n",
        "    file_name = \"numpy_model_{:05}.png\".format(index//50)\n",
        "    file_path = os.path.join(OUTPUT_DIR, file_name)\n",
        "    out,act = forw_prop(np.transpose(grid_2d),params,act_fn)\n",
        "    prediction_probs = act[\"A\" + str(len(layer_dims)-1)]\n",
        "    prediction_probs = prediction_probs.reshape(prediction_probs.shape[1], 1)\n",
        "    make_plot(X_te, y_te, plot_title, file_name=file_path, XX=XX, YY=YY, preds=prediction_probs, dark=True)"
      ],
      "execution_count": 18,
      "outputs": []
    },
    {
      "cell_type": "code",
      "metadata": {
        "id": "GaBatc_6p62v",
        "colab_type": "code",
        "colab": {}
      },
      "source": [
        "#Decision Boundary Visualisation\n",
        "\n",
        "layer_dims_vis = layer_dims\n",
        "layer_dims_vis[0] = 2\n",
        "parameters_dat = initialize_parameters(layer_dims_vis,act_fn)\n",
        "_,params_values = fit(X_tr, y_tr, m_tr, 10000, 0.010, parameters_dat,activation_fn = act_fn,print_cost=False,callback = callback_numpy_plot)"
      ],
      "execution_count": 20,
      "outputs": []
    },
    {
      "cell_type": "code",
      "metadata": {
        "id": "xZW1bV68p_Gx",
        "colab_type": "code",
        "colab": {
          "base_uri": "https://localhost:8080/",
          "height": 747
        },
        "outputId": "b1ab5170-3b94-4fdb-d325-ccfb0702aa58"
      },
      "source": [
        "#Get the final Decision Boundary at the end of training evaluated on the test set \n",
        "\n",
        "out,act = forw_prop(np.transpose(grid_2d),params_values,act_fn)\n",
        "prediction_probs_np = act[\"A\" + str(len(layer_dims)-1)]\n",
        "prediction_probs_np = prediction_probs_np.reshape(prediction_probs_np.shape[1], 1)\n",
        "make_plot(X_te, y_te, \"Final Iteration\", file_name=None, XX=XX, YY=YY, preds=prediction_probs_np, dark=True)"
      ],
      "execution_count": 21,
      "outputs": [
        {
          "output_type": "display_data",
          "data": {
            "image/png": "[encoded data removed]",
            "text/plain": [
              "<Figure size 1152x864 with 1 Axes>"
            ]
          },
          "metadata": {
            "tags": []
          }
        }
      ]
    },
    {
      "cell_type": "code",
      "metadata": {
        "id": "c8u6EGVL90sJ",
        "colab_type": "code",
        "colab": {}
      },
      "source": [
        "\n"
      ],
      "execution_count": null,
      "outputs": []
    }
  ]
}
